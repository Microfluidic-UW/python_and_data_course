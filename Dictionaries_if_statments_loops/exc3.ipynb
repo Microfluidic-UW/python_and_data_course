{
 "cells": [
  {
   "cell_type": "markdown",
   "id": "c17156b0",
   "metadata": {},
   "source": [
    "### Dictionaries"
   ]
  },
  {
   "cell_type": "markdown",
   "id": "f6b85d1e",
   "metadata": {},
   "source": [
    "Dictionaries are used in all Python programs. They have no order and cannot be sorted. Their most important property is key:value pairs (key:value) {\n",
    "    'key1':'value1',\n",
    "    'key2':'value2'\n",
    "    }.\n",
    "- Keys must be unique - they must be unchangeable types, i.e. string, number, tuple.\n",
    "- Values ​​can be of any type, in one dictionary we can have values ​​of different types"
   ]
  },
  {
   "cell_type": "markdown",
   "id": "4fedf3fc",
   "metadata": {},
   "source": [
    "What is the difference between a dictionary and a list?\n",
    "- In a dictionary, you can find a value by having a key - no sorting possible\n",
    "- In a list, you can find a value by specifying its location - you can sort"
   ]
  },
  {
   "cell_type": "markdown",
   "id": "f0e9098c",
   "metadata": {},
   "source": [
    "# We are making empty dictionary\n",
    "dictionary = {}"
   ]
  },
  {
   "cell_type": "code",
   "execution_count": 1,
   "id": "741e633a",
   "metadata": {},
   "outputs": [],
   "source": [
    "# Example of dictionary - table of codons\n",
    "# The key are codons, and value are aminoacids\n",
    "codons = {\n",
    "    'UUU':'phenylalanine',\n",
    "    'UUC':'phenylalanine',\n",
    "    'UUA':'leucine',\n",
    "    'UUG':'leucine',\n",
    "    'CUU':'leucine',\n",
    "    'CUC':'leucine',\n",
    "    'CUA':'leucine',\n",
    "    'CUG':'leucine',\n",
    "    }\n",
    "\n",
    "# Keys are aminoacids and values are codons\n",
    "aminoacids = {'phenylalanine':['UUU','UUC'],'leucine':['UUA','UUG','CUU','CUC','CUA','CUG']}"
   ]
  },
  {
   "cell_type": "code",
   "execution_count": 4,
   "id": "626e08ec",
   "metadata": {},
   "outputs": [
    {
     "name": "stdout",
     "output_type": "stream",
     "text": [
      "['UUU', 'UUC']\n"
     ]
    }
   ],
   "source": [
    "# If you want to see the value you have to write the name of dictionary and in square brackets write the key value\n",
    "print(aminoacids['phenylalanine'])"
   ]
  },
  {
   "cell_type": "markdown",
   "id": "061de71d",
   "metadata": {},
   "source": [
    "Number of elements"
   ]
  },
  {
   "cell_type": "code",
   "execution_count": 5,
   "id": "3b77f7d7",
   "metadata": {},
   "outputs": [
    {
     "data": {
      "text/plain": [
       "2"
      ]
     },
     "execution_count": 5,
     "metadata": {},
     "output_type": "execute_result"
    }
   ],
   "source": [
    "# Liczba kluczy w słowniku\n",
    "len(aminoacids)"
   ]
  },
  {
   "cell_type": "code",
   "execution_count": 6,
   "id": "69aa8a68",
   "metadata": {},
   "outputs": [
    {
     "name": "stdout",
     "output_type": "stream",
     "text": [
      "6\n"
     ]
    }
   ],
   "source": [
    "# Number of values in one key\n",
    "print(len(aminoacids['leucine']))"
   ]
  },
  {
   "cell_type": "markdown",
   "id": "343512e4",
   "metadata": {},
   "source": [
    "#### Zawartość słownika i modyfikowanie jego zawartości"
   ]
  },
  {
   "cell_type": "code",
   "execution_count": 7,
   "id": "8d5e7235",
   "metadata": {},
   "outputs": [
    {
     "name": "stdout",
     "output_type": "stream",
     "text": [
      "dict_keys(['UUU', 'UUC', 'UUA', 'UUG', 'CUU', 'CUC', 'CUA', 'CUG'])\n",
      "dict_values(['phenylalanine', 'phenylalanine', 'leucine', 'leucine', 'leucine', 'leucine', 'leucine', 'leucine'])\n",
      "dict_items([('UUU', 'phenylalanine'), ('UUC', 'phenylalanine'), ('UUA', 'leucine'), ('UUG', 'leucine'), ('CUU', 'leucine'), ('CUC', 'leucine'), ('CUA', 'leucine'), ('CUG', 'leucine')])\n"
     ]
    }
   ],
   "source": [
    "# Wyświetlanie wszystkich kluczy, wartości oraz par w słowniku\n",
    "print(codons.keys())\n",
    "print(codons.values())\n",
    "print(codons.items())"
   ]
  },
  {
   "cell_type": "code",
   "execution_count": 8,
   "id": "6e8f9f7c",
   "metadata": {},
   "outputs": [
    {
     "name": "stdout",
     "output_type": "stream",
     "text": [
      "leucyna\n"
     ]
    }
   ],
   "source": [
    "# Changing the values based on key\n",
    "codons['CUU']='leucyna'\n",
    "print(codons['CUU'])"
   ]
  },
  {
   "cell_type": "code",
   "execution_count": 9,
   "id": "b688958b",
   "metadata": {},
   "outputs": [
    {
     "name": "stdout",
     "output_type": "stream",
     "text": [
      "{'phenylalanine': ['UUU', 'UUC'], 'leucine': ['UUA', 'UUG', 'CUU', 'CUC', 'CUA', 'CUG']}\n",
      "{'phenylalanine': ['UUU', 'UUC'], 'leucine': ['UUA', 'UUG', 'CUU', 'CUC', 'CUA', 'CUG'], 'izoleucyna': ['AUU', 'AUC', 'AUA']}\n"
     ]
    }
   ],
   "source": [
    "# Adding new pait key and value is super easy!\n",
    "print(aminoacids)\n",
    "aminoacids['izoleucyna']=['AUU','AUC','AUA']\n",
    "print(aminoacids)"
   ]
  },
  {
   "cell_type": "code",
   "execution_count": 10,
   "id": "bddfd6e6",
   "metadata": {},
   "outputs": [
    {
     "name": "stdout",
     "output_type": "stream",
     "text": [
      "['UUA', 'UUG', 'CUU', 'CUC', 'CUA', 'CUG']\n",
      "UUG\n",
      "uug\n"
     ]
    }
   ],
   "source": [
    "# What to do to return interesting for us elements from list which are in dictionary\n",
    "# 1. Check what value we have under the key\n",
    "print(aminoacids['leucine'])\n",
    "\n",
    "# 2. We are taking the codon from the list which is the 2nd element in this list\n",
    "print(aminoacids['leucine'][1])\n",
    "\n",
    "# The same like in point 2 but we are changing the letters to small ones :)\n",
    "print(aminoacids['leucine'][1].lower())"
   ]
  },
  {
   "cell_type": "code",
   "execution_count": 11,
   "id": "9a519017",
   "metadata": {},
   "outputs": [
    {
     "name": "stdout",
     "output_type": "stream",
     "text": [
      "{'leucine': ['UUA', 'UUG', 'CUU', 'CUC', 'CUA', 'CUG'], 'izoleucyna': ['AUU', 'AUC', 'AUA']}\n",
      "['UUU', 'UUC']\n"
     ]
    }
   ],
   "source": [
    "# Removing the elements from the dictionary. But what is important. The method pop in this case returns us the removed values. So we can still save them\n",
    "removed_aminos = aminoacids.pop('phenylalanine')\n",
    "print(aminoacids)\n",
    "print(removed_aminos)"
   ]
  },
  {
   "cell_type": "markdown",
   "id": "c024f632",
   "metadata": {},
   "source": [
    "### Exercise 3.1 Create a dictionary that will contain three selected English words together with a Polish (or Italian) translation, and then:\n",
    "- A. Add an entry \"author\" that will contain your name and surname in the form of a list\n",
    "- B. Remove the second of the added words from the dictionary\n",
    "- C. Change the translation of the first word to a synonym\n",
    "- D. Create a Polish-English dictionary that will be a translation of the dictionary you have.\n",
    "- E. Merge the two dictionaries you have into one (find the function on google, there are fews :))\n",
    "- F. Return all keys from the merged dictionary"
   ]
  },
  {
   "cell_type": "code",
   "execution_count": 12,
   "id": "7667402a",
   "metadata": {},
   "outputs": [
    {
     "name": "stdout",
     "output_type": "stream",
     "text": [
      "{'car': 'samochód', 'table': 'stół', 'chair': 'krzesło', 'author': 'Maciej Andrzejewski'}\n"
     ]
    }
   ],
   "source": [
    "dictionary = {\n",
    "    'car': 'samochód',\n",
    "    'table': 'stół',\n",
    "    'chair': 'krzesło',\n",
    "}\n",
    "dictionary['author'] = 'Maciej Andrzejewski'\n",
    "print(dictionary)"
   ]
  },
  {
   "cell_type": "markdown",
   "id": "2ded3dec",
   "metadata": {},
   "source": [
    "### Sets"
   ]
  },
  {
   "cell_type": "code",
   "execution_count": 13,
   "id": "4c8fb2c8",
   "metadata": {},
   "outputs": [
    {
     "name": "stdout",
     "output_type": "stream",
     "text": [
      "{1}\n"
     ]
    }
   ],
   "source": [
    "# Creating the set\n",
    "set1 = set()\n",
    "\n",
    "# Adding element to set\n",
    "set1.add(1)\n",
    "print(set1)"
   ]
  },
  {
   "cell_type": "code",
   "execution_count": 14,
   "id": "6630a1e2",
   "metadata": {},
   "outputs": [
    {
     "name": "stdout",
     "output_type": "stream",
     "text": [
      "{1, 2}\n"
     ]
    }
   ],
   "source": [
    "# Adding another element to set\n",
    "set1.add(2)\n",
    "print(set1)"
   ]
  },
  {
   "cell_type": "code",
   "execution_count": 15,
   "id": "26c04978",
   "metadata": {},
   "outputs": [
    {
     "name": "stdout",
     "output_type": "stream",
     "text": [
      "{1, 2}\n"
     ]
    }
   ],
   "source": [
    "# Trying to add existing value into set\n",
    "set1.add(2)\n",
    "print(set1)"
   ]
  },
  {
   "cell_type": "code",
   "execution_count": 16,
   "id": "b032e87f",
   "metadata": {},
   "outputs": [
    {
     "data": {
      "text/plain": [
       "1"
      ]
     },
     "execution_count": 16,
     "metadata": {},
     "output_type": "execute_result"
    }
   ],
   "source": [
    "# removing element\n",
    "set1.pop()"
   ]
  },
  {
   "cell_type": "code",
   "execution_count": 18,
   "id": "2d0af04b",
   "metadata": {},
   "outputs": [
    {
     "name": "stdout",
     "output_type": "stream",
     "text": [
      "{'T', 'C', 'G', 'A'}\n",
      "{'', 'CCTTTC', 'T', 'GTTTTGG', 'CTCTGGC', 'GT', 'GTTTCG', 'GTG', 'G', 'GTTC'}\n"
     ]
    }
   ],
   "source": [
    "# Sets are using to take unique elements from the variables\n",
    "dna=\"AGAAGTGAGTTTTGGATAGTAGAATAAAGTTTCGAACTCTGGCACCTTTCAAAGTTC\"\n",
    "\n",
    "# Changing the sequence into set\n",
    "zbior2 = set(dna)\n",
    "print(zbior2)\n",
    "\n",
    "# Changin the splited sequence into set\n",
    "print(set(dna.split('A')))"
   ]
  },
  {
   "cell_type": "markdown",
   "id": "4334be96",
   "metadata": {},
   "source": [
    "#### What can we do with sets"
   ]
  },
  {
   "cell_type": "code",
   "execution_count": 19,
   "id": "e27d5d7f",
   "metadata": {},
   "outputs": [],
   "source": [
    "a = {'a','b','c'}\n",
    "b = {'b','c','d'}"
   ]
  },
  {
   "cell_type": "code",
   "execution_count": 21,
   "id": "fce66055",
   "metadata": {},
   "outputs": [
    {
     "name": "stdout",
     "output_type": "stream",
     "text": [
      "{'c', 'd', 'b', 'a'}\n",
      "{'c', 'd', 'b', 'a'}\n"
     ]
    }
   ],
   "source": [
    "# Adding sets\n",
    "print(a.union(b))\n",
    "print(a | b)"
   ]
  },
  {
   "cell_type": "code",
   "execution_count": 22,
   "id": "1db2b5b1",
   "metadata": {},
   "outputs": [
    {
     "name": "stdout",
     "output_type": "stream",
     "text": [
      "{'c', 'b'}\n"
     ]
    }
   ],
   "source": [
    "# Intersection the set\n",
    "print(a.intersection(b))"
   ]
  },
  {
   "cell_type": "code",
   "execution_count": 23,
   "id": "c7dac9d5",
   "metadata": {},
   "outputs": [
    {
     "name": "stdout",
     "output_type": "stream",
     "text": [
      "{'a'}\n"
     ]
    }
   ],
   "source": [
    "# Differences between sets\n",
    "print(a.difference(b))"
   ]
  },
  {
   "cell_type": "markdown",
   "id": "7f8eb4a1",
   "metadata": {},
   "source": [
    "#### Frozenset\n",
    "Returning the object which is not able to be modify"
   ]
  },
  {
   "cell_type": "code",
   "execution_count": 24,
   "id": "cf3db431",
   "metadata": {},
   "outputs": [
    {
     "name": "stdout",
     "output_type": "stream",
     "text": [
      "frozenset({1, 2, 3, 4, 6})\n"
     ]
    }
   ],
   "source": [
    "a = [1,2,3,4,6,3,2,3]\n",
    "b = frozenset(a)\n",
    "print(b)"
   ]
  },
  {
   "cell_type": "code",
   "execution_count": 25,
   "id": "521bc658",
   "metadata": {},
   "outputs": [
    {
     "ename": "TypeError",
     "evalue": "'frozenset' object does not support item assignment",
     "output_type": "error",
     "traceback": [
      "\u001b[31m---------------------------------------------------------------------------\u001b[39m",
      "\u001b[31mTypeError\u001b[39m                                 Traceback (most recent call last)",
      "\u001b[36mCell\u001b[39m\u001b[36m \u001b[39m\u001b[32mIn[25]\u001b[39m\u001b[32m, line 1\u001b[39m\n\u001b[32m----> \u001b[39m\u001b[32m1\u001b[39m \u001b[43mb\u001b[49m\u001b[43m[\u001b[49m\u001b[32;43m1\u001b[39;49m\u001b[43m]\u001b[49m=\u001b[32m7\u001b[39m\n",
      "\u001b[31mTypeError\u001b[39m: 'frozenset' object does not support item assignment"
     ]
    }
   ],
   "source": [
    "\n",
    "b[1]=7"
   ]
  },
  {
   "cell_type": "markdown",
   "id": "59b3b8ac",
   "metadata": {},
   "source": [
    "#### Task 4.3. For the protein sequence below\n",
    "- A. Check how many different amino acids the sequence contains\n",
    "- B. Which amino acids are common?"
   ]
  },
  {
   "cell_type": "code",
   "execution_count": null,
   "id": "c5e16f60",
   "metadata": {},
   "outputs": [],
   "source": [
    "Ripk2_mouse = 'MNGDAICSALPPIPYHKLADLHYLSRGASG'\n",
    "Ripk2_danio = 'MSRNMEHTGCVNICSLTSTLPVIPYRKLTD'"
   ]
  },
  {
   "cell_type": "markdown",
   "id": "12d1a340",
   "metadata": {},
   "source": [
    "### Conditional Statements"
   ]
  },
  {
   "cell_type": "markdown",
   "id": "b8f4aa95",
   "metadata": {},
   "source": [
    "All flow control expressions in Python use indentation. Code blocks do not have explicit beginnings and ends, nor do they have any parentheses to mark where the block begins and ends. The only separators are the colon ':' and the code indentation. By \"code block\" we mean functions, if statements, for loops, and while loops, among other things."
   ]
  },
  {
   "cell_type": "markdown",
   "id": "92b21ddc",
   "metadata": {},
   "source": [
    "In if statment we have statments like if, elif (if else we would say) and else"
   ]
  },
  {
   "cell_type": "markdown",
   "id": "ae2f66c0",
   "metadata": {},
   "source": [
    "If the condition is true, we run the operation block (if block), otherwise we call another block (else block). A conditional expression must contain at least one if block, while the else block is optional."
   ]
  },
  {
   "cell_type": "code",
   "execution_count": 27,
   "id": "1e4b979d",
   "metadata": {},
   "outputs": [
    {
     "name": "stdout",
     "output_type": "stream",
     "text": [
      "8 is even\n"
     ]
    }
   ],
   "source": [
    "# Now we can check if the number is even or not\n",
    "number = 8\n",
    "if number % 2 == 0:\n",
    "    print(f'{number} is even')\n",
    "else:\n",
    "    print(f'{number} is not even :D')"
   ]
  },
  {
   "cell_type": "code",
   "execution_count": 28,
   "id": "44e9a374",
   "metadata": {},
   "outputs": [
    {
     "name": "stdout",
     "output_type": "stream",
     "text": [
      "10 is even\n"
     ]
    }
   ],
   "source": [
    "# This code will work, If the if statment is false we won't see any results\n",
    "number = 10                               \n",
    "if number % 2 == 0:\n",
    "    print(f'{number} is even')"
   ]
  },
  {
   "cell_type": "markdown",
   "id": "a0e5837d",
   "metadata": {},
   "source": [
    "Notice the indentation on the line after the if condition, after the colon. The code below will generate the error \"expected an indented block\". This means that the indentation is missing. When writing a conditional statement in jupyter notebook, ending it with a colon, when we press ENTER the indentation should appear automatically, here it was intentionally deleted."
   ]
  },
  {
   "cell_type": "markdown",
   "id": "4f669493",
   "metadata": {},
   "source": [
    "#### Exercise 3.1: Write a conditional statement that checks whether a DNA sequence contains 'AGT' sequences and then returns their number and a text message if they do not\n",
    "\n",
    "Hint: you can use the count function to count the occurrences of text fragments. It is best to store the result of the function in a variable.\n",
    "\n",
    "DNA sequence: ACCTGAGTGATGATGCCATGAAGTCCATGAATAAGTGACAATGACAGTACTAG"
   ]
  },
  {
   "cell_type": "code",
   "execution_count": 31,
   "id": "7c330a9d",
   "metadata": {},
   "outputs": [
    {
     "name": "stdout",
     "output_type": "stream",
     "text": [
      "ACCTGAGTGATGATGCCATGAAGTCCATGAATAAGTGACAATGACAGTACTAG contains 4\n"
     ]
    }
   ],
   "source": [
    "dna = 'ACCTGAGTGATGATGCCATGAAGTCCATGAATAAGTGACAATGACAGTACTAG'\n",
    "dna_count = dna.count('AGT')\n",
    "if 'AGT' in dna:\n",
    "    print(f'{dna} contains {dna_count}')\n",
    "else:\n",
    "    print('there is not AGT sequence')"
   ]
  },
  {
   "cell_type": "code",
   "execution_count": 32,
   "id": "9c641302",
   "metadata": {},
   "outputs": [
    {
     "name": "stdout",
     "output_type": "stream",
     "text": [
      "between 2 and 5\n"
     ]
    }
   ],
   "source": [
    " # Więcej bloków else?\n",
    "a=3\n",
    "if a < 2:\n",
    "    print('smaller than 2')\n",
    "elif a >= 2 and a <=5:\n",
    "    print('between 2 and 5')\n",
    "else:\n",
    "    print('more than 5')"
   ]
  },
  {
   "cell_type": "code",
   "execution_count": 33,
   "id": "943d5573",
   "metadata": {},
   "outputs": [
    {
     "name": "stdout",
     "output_type": "stream",
     "text": [
      "False\n",
      "True\n"
     ]
    }
   ],
   "source": [
    "# In this example there is operator \"and\" and \"or\". When we give operator \"and\" it means that both conditions must be True.\n",
    "# When we use operator or it means that minimum one condition must be true\n",
    "a = 5\n",
    "print(a < 10 and a > 6)\n",
    "print(a < 10 or a > 6)"
   ]
  },
  {
   "cell_type": "markdown",
   "id": "ba520ed9",
   "metadata": {},
   "source": [
    "#### Exercise 3.2: Write a conditional statement that checks whether the DNA sequence from Exercise 1 contains the sequence 'AGT' and returns the number of nucleotides and is longer than 20 nucleotides. Execute the statement using the elif statement - consider every eventuality, including the absence of the sequence 'AGT'"
   ]
  },
  {
   "cell_type": "code",
   "execution_count": null,
   "id": "53f414f0",
   "metadata": {},
   "outputs": [],
   "source": [
    "http_status = 200\n",
    "match http_status:\n",
    "    case 200|201:\n",
    "        print('success!')\n",
    "    case 400:\n",
    "        print('Not found')\n",
    "    case 500|501:\n",
    "        print('Serwer Error')\n",
    "    case _:\n",
    "        print('No Http response')"
   ]
  }
 ],
 "metadata": {
  "kernelspec": {
   "display_name": "dev",
   "language": "python",
   "name": "python3"
  },
  "language_info": {
   "codemirror_mode": {
    "name": "ipython",
    "version": 3
   },
   "file_extension": ".py",
   "mimetype": "text/x-python",
   "name": "python",
   "nbconvert_exporter": "python",
   "pygments_lexer": "ipython3",
   "version": "3.11.11"
  }
 },
 "nbformat": 4,
 "nbformat_minor": 5
}
