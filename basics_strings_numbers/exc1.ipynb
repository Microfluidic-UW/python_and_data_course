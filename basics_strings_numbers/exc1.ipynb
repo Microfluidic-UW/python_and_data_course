{
 "cells": [
  {
   "cell_type": "markdown",
   "id": "bf1ba6e8",
   "metadata": {},
   "source": [
    "![meme](6bd1a905bfee01bcfa2c1c3a5c8a4d4e.png)"
   ]
  },
  {
   "cell_type": "markdown",
   "id": "a76cbd74",
   "metadata": {},
   "source": [
    "### Python is an interpreted, object-oriented, dynamically typed, high-level language. It is a language with a wide range of applications and has many libraries. It is one of the languages ​​that is very popular in bioinformatics due to its simplicity and great possibilities.\n",
    "\n"
   ]
  },
  {
   "cell_type": "markdown",
   "id": "9991d387",
   "metadata": {},
   "source": [
    "#### If you want to make a comment in the code (or want to stop using line of code without deleting it) you can use '#' sign to make a comment"
   ]
  },
  {
   "cell_type": "code",
   "execution_count": 1,
   "id": "a5bfdf3a",
   "metadata": {},
   "outputs": [
    {
     "name": "stdout",
     "output_type": "stream",
     "text": [
      "Hello World\n"
     ]
    }
   ],
   "source": [
    "# This is a comment\n",
    "# print is the first and most basic function we will use in Python. It is needed to see the output of the code\n",
    "print('Hello World')"
   ]
  },
  {
   "cell_type": "markdown",
   "id": "280d52a3",
   "metadata": {},
   "source": [
    "### Variables"
   ]
  },
  {
   "cell_type": "markdown",
   "id": "18909fa3",
   "metadata": {},
   "source": [
    "variables - a designated place in computer memory, with a specific name, in which data is stored.\n",
    "Assigning a value to a variable:\n",
    "- name = \"content\"\n",
    "- = assignment operator\n",
    "- important functions: print(), type()"
   ]
  },
  {
   "cell_type": "code",
   "execution_count": 3,
   "id": "87f4e01c",
   "metadata": {},
   "outputs": [],
   "source": [
    "var = 5\n"
   ]
  },
  {
   "cell_type": "markdown",
   "id": "aed9e7a3",
   "metadata": {},
   "source": [
    "Variable names - basic rules:\n",
    "- they cannot start with a digit, e.g. 3krol is an invalid name\n",
    "- they cannot contain spaces, instead we use the underscore '_'\n",
    "- we usually start with a lowercase letter\n",
    "- we avoid using phrases that have a different meaning assigned, e.g. print, list, str. The programming environment should mark such a word with color\n",
    "- they cannot contain the following symbols: :'\",<>/?\\()!@#$%^&*~-+\n",
    "\n",
    "In Python we are using snake case system of naming the variables. Which is super_variable1, huge_dick_2_inch and so on.\n",
    "In some other languages like JS, TS they are using camelCase system where next work is withBigLetter"
   ]
  },
  {
   "cell_type": "markdown",
   "id": "b09a5643",
   "metadata": {},
   "source": [
    "Python has dynamic variable typing, which means that types are assigned to values ​​stored in variables while the program is running. This makes programming easier and faster, but it can be a source of errors. It is worth using the type () function, which provides the type of a variable\n",
    "\n"
   ]
  },
  {
   "cell_type": "code",
   "execution_count": null,
   "id": "9b6a77ed",
   "metadata": {},
   "outputs": [
    {
     "name": "stdout",
     "output_type": "stream",
     "text": [
      "5\n",
      "str\n",
      "<class 'str'>\n"
     ]
    }
   ],
   "source": [
    "var = 5\n",
    "print(var)\n",
    "var = 'str'\n",
    "print(var)\n",
    "print(type(var)) # function type will tell you what exactly type of variable we are using. It is kinda useful\n",
    "\n",
    "# In low-level languages if we are creating variable we have to asign the type to the variable. For example in C#\n",
    "# int var = 5\n",
    "# It means that to the end of the time this variable must be integer!"
   ]
  },
  {
   "cell_type": "markdown",
   "id": "5c134cc6",
   "metadata": {},
   "source": [
    "Okay, now it's the time to talk about data types! In basic python language we have few types of variables:\n",
    "- logic: Boolean: True, False\n",
    "- numeric: integer: 1, 2, 3 or float: 1.0, 2.5, 5.2\n",
    "- sequences: list [1, 2, 3, 4], tuple (1, 2, 3, 4)\n",
    "- text: str 'Bonjour mes amis'\n",
    "- dictionary: dict('key': 'value')\n",
    "- Set"
   ]
  },
  {
   "cell_type": "code",
   "execution_count": 7,
   "id": "128a6209",
   "metadata": {},
   "outputs": [
    {
     "name": "stdout",
     "output_type": "stream",
     "text": [
      "<class 'bool'>\n"
     ]
    }
   ],
   "source": [
    "bool_var = True\n",
    "print(type(bool_var))"
   ]
  },
  {
   "cell_type": "markdown",
   "id": "f8c00e9f",
   "metadata": {},
   "source": [
    "It is very usefull. In programming very often we have to make logical operator like 'if' and while loop. The best practice is to use booleans to check this condition"
   ]
  },
  {
   "cell_type": "code",
   "execution_count": 14,
   "id": "127c6633",
   "metadata": {},
   "outputs": [
    {
     "name": "stdout",
     "output_type": "stream",
     "text": [
      "Is 2 equal 2.0? True\n",
      " Is 2 equal 5? False\n"
     ]
    }
   ],
   "source": [
    "# Operator == checks, that the variables has the same value, regardless of the type and returns the logical value of the expression, e.g.\n",
    "print(f'Is 2 equal 2.0? {2 == 2.0}')\n",
    "\n",
    "print(f' Is 2 equal 5? {2 == 5}')"
   ]
  },
  {
   "cell_type": "code",
   "execution_count": 15,
   "id": "19950101",
   "metadata": {},
   "outputs": [
    {
     "name": "stdout",
     "output_type": "stream",
     "text": [
      "True\n"
     ]
    }
   ],
   "source": [
    "# there are other typer os operators like smaller < , bigger > or smaller equal <= , bigger equal >=\n",
    "\n",
    "print(2 <= 3)"
   ]
  },
  {
   "cell_type": "code",
   "execution_count": 16,
   "id": "f7c54c71",
   "metadata": {},
   "outputs": [
    {
     "name": "stdout",
     "output_type": "stream",
     "text": [
      "True\n"
     ]
    }
   ],
   "source": [
    "# And != checks that something is NOT EQUAL\n",
    "\n",
    "print(10 != 5)"
   ]
  },
  {
   "cell_type": "markdown",
   "id": "4195ea0a",
   "metadata": {},
   "source": [
    "#### Exercise 1\n",
    "Under the variable named \"number\" save the value 8. Then save two expressions to check:\n",
    "1. is the number equal to 5?\n",
    "\n",
    "2. is the number less than 10?\n",
    "\n",
    "Show the results in the console using the print function"
   ]
  },
  {
   "cell_type": "markdown",
   "id": "76c79880",
   "metadata": {},
   "source": [
    "## Numbers\n",
    "The Numeric type is divided into integer (integer, abbreviation: int) and numeric (real, abbreviation: float). There is also a complex type (complex numbers). But I wish you never use them ;p\n",
    "\n"
   ]
  },
  {
   "cell_type": "code",
   "execution_count": 19,
   "id": "d30fda19",
   "metadata": {},
   "outputs": [
    {
     "name": "stdout",
     "output_type": "stream",
     "text": [
      "The type of 7 is <class 'int'>\n",
      "The type of 7.5 is <class 'float'>\n",
      "The type of 1.3333333333333333 is <class 'float'>\n"
     ]
    }
   ],
   "source": [
    "int_number = 7\n",
    "print(f'The type of {int_number} is {type(int_number)}')\n",
    "\n",
    "float_number = 7.5\n",
    "print(f'The type of {float_number} is {type(float_number)}')\n",
    "\n",
    "divided_number = 4/3\n",
    "print(f'The type of {divided_number} is {type(divided_number)}')"
   ]
  },
  {
   "cell_type": "markdown",
   "id": "ac7520f2",
   "metadata": {},
   "source": [
    "Python can work as calculator - you can sum (+), odd(-), divide(/), multiplying(*) and other normal operators like power, sqrt...."
   ]
  },
  {
   "cell_type": "code",
   "execution_count": null,
   "id": "e27a13dd",
   "metadata": {},
   "outputs": [],
   "source": [
    "\"\"\"Other very important operators\n",
    "Modulo (%) - returns the remainder of a division, used e.g. to check if a number is even\n",
    "5 % 2\n",
    "To get the divisor we use the // operator\n",
    "13 // 2\n",
    "Exponentiation (**)\n",
    "2**5\"\"\"\n"
   ]
  },
  {
   "cell_type": "markdown",
   "id": "488e3745",
   "metadata": {},
   "source": [
    "#### Exercise 2\n",
    "1. The formula for speed in rectilinear uniform motion is V = s/t where s is the distance traveled and t is the time. Assuming that a swallow can cover 100 meters in 2.5 seconds, calculate its speed. Save the distance, time, and speed as variables named v, s, t. Return the result to the console and check the type of the result variable.\n",
    "2. Check if the swallow is as fast as the African swallow, which can cover 80 meters in 2 seconds."
   ]
  },
  {
   "cell_type": "markdown",
   "id": "dfe60578",
   "metadata": {},
   "source": [
    "![meme2](a99c4814074f4eb378bac32fde80cd63bf31cdd2_2_690x388.jpeg)"
   ]
  },
  {
   "cell_type": "markdown",
   "id": "7384b899",
   "metadata": {},
   "source": [
    "## Text"
   ]
  },
  {
   "cell_type": "markdown",
   "id": "8ad22655",
   "metadata": {},
   "source": [
    "The text type is a sequence and is ordered, meaning it can be indexed using [] and split into fragments"
   ]
  },
  {
   "cell_type": "markdown",
   "id": "8b02d5fd",
   "metadata": {},
   "source": [
    "Indexing - selecting a fragment from a string. Important! Item numbering starts from 0! Iteration in most of programming languages starts from 0.\n",
    "Which means that 0 element is the first one!\n",
    "In some other languages like Lua iterations starting from 1."
   ]
  },
  {
   "cell_type": "markdown",
   "id": "1921b421",
   "metadata": {},
   "source": [
    "![meme3](vsdo624dlkla1.jpg)"
   ]
  },
  {
   "cell_type": "code",
   "execution_count": 25,
   "id": "21c6cf59",
   "metadata": {},
   "outputs": [
    {
     "name": "stdout",
     "output_type": "stream",
     "text": [
      "W\n",
      "h\n",
      "a\n",
      "t\n"
     ]
    }
   ],
   "source": [
    "txt1= 'What is the flight speed of an uncontrolled swallow?'\n",
    "print(txt1[0])\n",
    "print(txt1[1])\n",
    "print(txt1[2])\n",
    "print(txt1[3])"
   ]
  },
  {
   "cell_type": "code",
   "execution_count": 31,
   "id": "3249ec57",
   "metadata": {},
   "outputs": [
    {
     "name": "stdout",
     "output_type": "stream",
     "text": [
      "?\n",
      "w\n",
      "o\n",
      "l\n",
      "l\n",
      "a\n",
      "w\n",
      "s\n"
     ]
    }
   ],
   "source": [
    "# Reversed indexing\n",
    "print(txt1[-1])\n",
    "print(txt1[-2])\n",
    "print(txt1[-3])\n",
    "print(txt1[-4])\n",
    "print(txt1[-5])\n",
    "print(txt1[-6])\n",
    "print(txt1[-7])\n",
    "print(txt1[-8])\n"
   ]
  },
  {
   "cell_type": "markdown",
   "id": "5f58265a",
   "metadata": {},
   "source": [
    "#### Excercise 3\n",
    "Check what happens in the code below! Write the results as comments next to lines"
   ]
  },
  {
   "cell_type": "code",
   "execution_count": 32,
   "id": "469ee5c2",
   "metadata": {},
   "outputs": [
    {
     "name": "stdout",
     "output_type": "stream",
     "text": [
      "What\n",
      "What\n",
      "is the flight speed of an uncontrolled swallow?\n",
      "Wtshfg e   ctldwl?\n",
      "hti \n",
      "?wollaws dellortnocnu na fo deeps thgilf eht si tahW\n"
     ]
    }
   ],
   "source": [
    "txt1= 'What is the flight speed of an uncontrolled swallow?'\n",
    "\n",
    "# Wycinanie(slicing) wg wzoru [start:stop:step]\n",
    "print(txt1[0:4])\n",
    "print(txt1[:4])\n",
    "print(txt1[5:])\n",
    "print(txt1[::3])\n",
    "print(txt1[1:8:2])\n",
    "print(txt1[::-1])"
   ]
  },
  {
   "cell_type": "code",
   "execution_count": null,
   "id": "7ab2b5b3",
   "metadata": {},
   "outputs": [
    {
     "data": {
      "text/plain": [
       "52"
      ]
     },
     "execution_count": 33,
     "metadata": {},
     "output_type": "execute_result"
    }
   ],
   "source": [
    "# Lenght of the text (also arrays, dictionaries, tuples and lists). To check this use function len()\n",
    "print(len(txt1))"
   ]
  },
  {
   "cell_type": "code",
   "execution_count": null,
   "id": "e9c911f4",
   "metadata": {},
   "outputs": [
    {
     "name": "stdout",
     "output_type": "stream",
     "text": [
      "23\n",
      "5\n"
     ]
    }
   ],
   "source": [
    "# Connecting the texts in one print\n",
    "print('2'+ '3')\n",
    "print(2 + 3)\n",
    "\n",
    "# print('Strażnik:\\t' + tekst1 + '\\nKról Artur:\\t' + tekst2)"
   ]
  },
  {
   "cell_type": "code",
   "execution_count": null,
   "id": "8ba9f9fd",
   "metadata": {},
   "outputs": [],
   "source": [
    "number1 = 2\n",
    "number2 = '3'\n",
    "print(f'sum of the numbers {number1} and {number2} is {number1 + number2}')\n"
   ]
  },
  {
   "cell_type": "markdown",
   "id": "359705fa",
   "metadata": {},
   "source": [
    "#### Exercise 4\n",
    "Save the following quotes under variables, and then build and show in the console (print) a sentence based on them: Where do swallows fly away from?\n",
    "- quote1: Where do you get coconuts from?\n",
    "\n",
    "- quote2: After all, swallows fly away to the sunny south in winter…"
   ]
  },
  {
   "cell_type": "markdown",
   "id": "911bf7b9",
   "metadata": {},
   "source": [
    "### Most important methods on strings"
   ]
  },
  {
   "cell_type": "code",
   "execution_count": null,
   "id": "62c9549c",
   "metadata": {},
   "outputs": [
    {
     "name": "stdout",
     "output_type": "stream",
     "text": [
      "57\n",
      "18\n",
      "agaagtgagttttggatagtagaataaagtttcgaactctggcacctttcaaagttc\n",
      "Agaagtgagttttggatagtagaataaagtttcgaactctggcacctttcaaagttc\n"
     ]
    }
   ],
   "source": [
    "dna=\"AGAAGTGAGTTTTGGATAGTAGAATAAAGTTTCGAACTCTGGCACCTTTCAAAGTTC\"\n",
    "print(len(dna)) # lenght of sequence\n",
    "print(dna.count('A')) # how much Adenins are in the sequence\n",
    "print(dna.lower()) # change letters from big to small :)\n",
    "print(dna.title()) # First letter will be big, the rest will be small"
   ]
  },
  {
   "cell_type": "code",
   "execution_count": 38,
   "id": "f6867832",
   "metadata": {},
   "outputs": [
    {
     "name": "stdout",
     "output_type": "stream",
     "text": [
      "AAAGTAAAGTAAAGTAAAGTAAAGTAAAGTAAAGTAAAGTAAAGTAAAGT\n"
     ]
    }
   ],
   "source": [
    "# Text \"Multiplication\", or How to Quickly Generate a Microsatellite Sequence\n",
    "print('AAAGT' * 10)\n"
   ]
  },
  {
   "cell_type": "code",
   "execution_count": 39,
   "id": "bf0f8e86",
   "metadata": {},
   "outputs": [
    {
     "data": {
      "text/plain": [
       "['AGAAGTGAGTTTTGGA', 'G', 'GAA', 'AAGTTTCGAACTCTGGCACCTTTCAAAGTTC']"
      ]
     },
     "execution_count": 39,
     "metadata": {},
     "output_type": "execute_result"
    }
   ],
   "source": [
    "# Change text to list, by default it splits on spaces but you can enter any symbol\n",
    "dna=\"AGAAGTGAGTTTTGGATAGTAGAATAAAGTTTCGAACTCTGGCACCTTTCAAAGTTC\"\n",
    "dna.split('TA')"
   ]
  },
  {
   "cell_type": "markdown",
   "id": "4407145c",
   "metadata": {},
   "source": [
    "## Excercise! \n",
    "Assuming that the sequence stored under the variable 'dna' is the sequence of the coding strand\n",
    "1. create the target mRNA sequence.\n",
    "2. check if the sequence contains the polyadenylation signal 'AATAAA' and at which position.\n",
    "3. add a 120 nucleotide long poly-A tail at the 3' end"
   ]
  },
  {
   "cell_type": "markdown",
   "id": "d8dd6e30",
   "metadata": {},
   "source": []
  }
 ],
 "metadata": {
  "kernelspec": {
   "display_name": "dev",
   "language": "python",
   "name": "python3"
  },
  "language_info": {
   "codemirror_mode": {
    "name": "ipython",
    "version": 3
   },
   "file_extension": ".py",
   "mimetype": "text/x-python",
   "name": "python",
   "nbconvert_exporter": "python",
   "pygments_lexer": "ipython3",
   "version": "3.11.9"
  }
 },
 "nbformat": 4,
 "nbformat_minor": 5
}
