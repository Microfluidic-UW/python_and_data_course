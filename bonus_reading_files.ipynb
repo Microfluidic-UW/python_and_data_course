{
 "cells": [
  {
   "cell_type": "code",
   "execution_count": 3,
   "metadata": {},
   "outputs": [],
   "source": [
    "plik = open('txt_files/text.txt')"
   ]
  },
  {
   "cell_type": "code",
   "execution_count": 2,
   "metadata": {},
   "outputs": [
    {
     "data": {
      "text/plain": [
       "\"Hello darkness, my old friend\\nI've come to talk with you again\\nBecause a vision softly creeping\\nLeft its seeds while I was sleeping\\nAnd the vision that was planted in my brain\\nStill remains\\nWithin the sound of silence\""
      ]
     },
     "execution_count": 2,
     "metadata": {},
     "output_type": "execute_result"
    }
   ],
   "source": [
    "plik.read()"
   ]
  },
  {
   "cell_type": "code",
   "execution_count": 4,
   "metadata": {},
   "outputs": [
    {
     "data": {
      "text/plain": [
       "['Hello darkness, my old friend\\n',\n",
       " \"I've come to talk with you again\\n\",\n",
       " 'Because a vision softly creeping\\n',\n",
       " 'Left its seeds while I was sleeping\\n',\n",
       " 'And the vision that was planted in my brain\\n',\n",
       " 'Still remains\\n',\n",
       " 'Within the sound of silence']"
      ]
     },
     "execution_count": 4,
     "metadata": {},
     "output_type": "execute_result"
    }
   ],
   "source": [
    "plik.readlines()"
   ]
  },
  {
   "cell_type": "code",
   "execution_count": 5,
   "metadata": {},
   "outputs": [],
   "source": [
    "plik.close()"
   ]
  },
  {
   "cell_type": "code",
   "execution_count": 6,
   "metadata": {},
   "outputs": [
    {
     "data": {
      "text/plain": [
       "'/Users/maciekandrzejewski/private_projects/python_course/python_and_data_course'"
      ]
     },
     "execution_count": 6,
     "metadata": {},
     "output_type": "execute_result"
    }
   ],
   "source": [
    "import os\n",
    "os.getcwd()"
   ]
  },
  {
   "cell_type": "code",
   "execution_count": 7,
   "metadata": {},
   "outputs": [
    {
     "name": "stdout",
     "output_type": "stream",
     "text": [
      "Hello darkness, my old friend\n",
      "I've come to talk with you again\n",
      "Because a vision softly creeping\n",
      "Left its seeds while I was sleeping\n",
      "And the vision that was planted in my brain\n",
      "Still remains\n",
      "Within the sound of silence\n"
     ]
    }
   ],
   "source": [
    "with open('txt_files/text.txt', 'r') as f:\n",
    "    zawartosc = f.read()\n",
    "\n",
    "print(zawartosc)"
   ]
  },
  {
   "cell_type": "code",
   "execution_count": 9,
   "metadata": {},
   "outputs": [],
   "source": [
    "# Zapisywanie do pliku, korzystamy z argumentu mode\n",
    "# Domyślnym ustawieniem dla mode jest r czyli read only: mode = 'r'   - tylko odczytuje zawartość pliku\n",
    "# mode = 'w'   - czyli write only, tylko nadpisuje zawartość pliku\n",
    "# mode = 'a'   - czyli append only, dodaje zawartość do pliku \n",
    "# mode = 'r+'  - odczytywanie i zapisywanie do pliku \n",
    "# mode = 'w+'  - zapisywanie i odczytywanie pliku - nadpisuje istniejący plik lub tworzy nowy\n",
    "\n",
    "with open('txt_files/text.txt', 'a') as f:\n",
    "    f.write('\\n kolejna linijka')"
   ]
  },
  {
   "cell_type": "code",
   "execution_count": 11,
   "metadata": {},
   "outputs": [
    {
     "name": "stdout",
     "output_type": "stream",
     "text": [
      "['Oh, the wind whistles down\\n', 'The cold dark street tonight\\n', 'And the people, they were dancing to the music vibe\\n', 'And the boys chase the girls with the curls in their hair\\n', 'While the shy tormented youth sit way over there\\n', 'And the songs, they get louder each one better than before\\n', '\\n', \"And you're singing the songs\\n\", 'Thinking this is the life\\n', 'And you wake up in the morning\\n', 'And your head feels twice the size\\n', 'Where you gonna go, where you gonna go\\n', 'Where you gonna sleep tonight?\\n', \"And you're singing the songs\\n\", 'Thinking this is the life\\n', 'And you wake up in the morning\\n', 'And your head feels twice the size\\n', 'Where you gonna go, where you gonna go\\n', 'Where you gonna sleep tonight?\\n', 'Where you gonna sleep tonight?\\n', '\\n', \"So you're heading down the road in your taxi for four\\n\", \"And you're waiting outside Jimmy's front door\\n\", \"But nobody's in, and nobody's home till four\\n\", \"So you're sitting there with nothing to do\\n\", 'Talking about Robert Riger and his motley crew\\n', 'And where you gonna go and where you gonna sleep tonight\\n', '\\n', \"And you're singing the songs\\n\", 'Thinking this is the life\\n', 'And you wake up in the morning\\n', 'And your head feels twice the size\\n', 'Where you gonna go, where you gonna go\\n', 'Where you gonna sleep tonight?\\n', \"And you're singing the songs\\n\", 'Thinking this is the life\\n', 'And you wake up in the morning\\n', 'And your head feels twice the size\\n', 'Where you gonna go, where you gonna go\\n', 'Where you gonna sleep tonight?\\n', '\\n', \"And you're singing the songs\\n\", 'Thinking this is the life\\n', 'And you wake up in the morning\\n', 'And your head feels twice the size\\n', 'Where you gonna go, where you gonna go\\n', 'Where you gonna sleep tonight?\\n', \"And you're singing the songs\\n\", 'Thinking this is the life\\n', 'And you wake up in the morning\\n', 'And your head feels twice the size\\n', 'Where you gonna go, where you gonna go\\n', 'Where you gonna sleep tonight?\\n', \"And you're singing the songs\\n\", 'Thinking this is the life\\n', 'And you wake up in the morning\\n', 'And your head feels twice the size\\n', 'Where you gonna go, where you gonna go\\n', 'Where you gonna sleep tonight?\\n', \"And you're singing the songs\\n\", 'Thinking this is the life\\n', 'And you wake up in the morning\\n', 'And your head feels twice the size\\n', 'Where you gonna go, where you gonna go\\n', 'Where you gonna sleep tonight?\\n', 'Where you gonna sleep tonight?']\n",
      "Thinking this is the life\n",
      "\n",
      "Thinking this is the life\n",
      "\n",
      "Thinking this is the life\n",
      "\n",
      "Thinking this is the life\n",
      "\n",
      "Thinking this is the life\n",
      "\n",
      "Thinking this is the life\n",
      "\n",
      "Thinking this is the life\n",
      "\n",
      "Thinking this is the life\n",
      "\n"
     ]
    }
   ],
   "source": [
    "with open('txt_files/song.txt', 'r') as f:\n",
    "    teskts = f.readlines()\n",
    "\n",
    "print(teskts)\n",
    "for line in teskts:\n",
    "    if 'life' in line:\n",
    "        print(line)"
   ]
  },
  {
   "cell_type": "code",
   "execution_count": 13,
   "metadata": {},
   "outputs": [
    {
     "name": "stdout",
     "output_type": "stream",
     "text": [
      "Mustafa szuka \n",
      " kobiet\n"
     ]
    }
   ],
   "source": [
    "print('Mustafa szuka \\n kobiet')"
   ]
  },
  {
   "cell_type": "code",
   "execution_count": null,
   "metadata": {},
   "outputs": [],
   "source": []
  }
 ],
 "metadata": {
  "kernelspec": {
   "display_name": "dev",
   "language": "python",
   "name": "python3"
  },
  "language_info": {
   "codemirror_mode": {
    "name": "ipython",
    "version": 3
   },
   "file_extension": ".py",
   "mimetype": "text/x-python",
   "name": "python",
   "nbconvert_exporter": "python",
   "pygments_lexer": "ipython3",
   "version": "3.11.11"
  }
 },
 "nbformat": 4,
 "nbformat_minor": 2
}
