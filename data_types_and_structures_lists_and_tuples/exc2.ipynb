{
 "cells": [
  {
   "cell_type": "markdown",
   "id": "abffb39c",
   "metadata": {},
   "source": [
    "### Last thing about strings"
   ]
  },
  {
   "cell_type": "code",
   "execution_count": 1,
   "id": "7a5df7cc",
   "metadata": {},
   "outputs": [
    {
     "name": "stdout",
     "output_type": "stream",
     "text": [
      "Mustafa is 40 years old, so he can start looking for milfs.\n",
      "Mustafa is 40 years old, so he can start looking for milfs.\n"
     ]
    }
   ],
   "source": [
    "age = 40\n",
    "name = 'Mustafa'\n",
    "# old easy version of text modification\n",
    "print(name, 'is', age, 'years old, so he can start looking for milfs.')\n",
    "\n",
    "# neweast version from Python 3.7.0 (earlier you won't be able to use this)\n",
    "print(f'{name} is {age} years old, so he can start looking for milfs.')\n",
    "\n",
    "\n"
   ]
  },
  {
   "cell_type": "markdown",
   "id": "cf34436e",
   "metadata": {},
   "source": [
    "## Lists"
   ]
  },
  {
   "cell_type": "markdown",
   "id": "bb846833",
   "metadata": {},
   "source": [
    "They are ordered sequences that can hold different types of objects.\n",
    "\n",
    "These objects use brackets [ ] to hold data and commas to separate list items.\n",
    "\n",
    "Like text variables, they can be indexed and sliced, and they have many dedicated methods."
   ]
  },
  {
   "cell_type": "code",
   "execution_count": null,
   "id": "07df5700",
   "metadata": {},
   "outputs": [
    {
     "name": "stdout",
     "output_type": "stream",
     "text": [
      "['a', 'b', 'c']\n"
     ]
    }
   ],
   "source": [
    "a=['d','b','c']\n",
    "print(a)"
   ]
  },
  {
   "cell_type": "code",
   "execution_count": 3,
   "id": "ff3d7e38",
   "metadata": {},
   "outputs": [
    {
     "name": "stdout",
     "output_type": "stream",
     "text": [
      "Mustafa\n",
      "Luca\n",
      "Joseph Bush\n"
     ]
    }
   ],
   "source": [
    "some_list = ['Mustafa', 'Luca', 'Joseph Bush']\n",
    "print(some_list[0])\n",
    "print(some_list[1])\n",
    "print(some_list[2])"
   ]
  },
  {
   "cell_type": "code",
   "execution_count": 5,
   "id": "299838ee",
   "metadata": {},
   "outputs": [
    {
     "name": "stdout",
     "output_type": "stream",
     "text": [
      "Joseph\n"
     ]
    }
   ],
   "source": [
    "print(some_list[2][:6])"
   ]
  },
  {
   "cell_type": "markdown",
   "id": "bd6114bb",
   "metadata": {},
   "source": [
    "Lists are:\n",
    "1. Ordered\n",
    "2. They can contain any objects\n",
    "3. List items are accessible via indexing\n",
    "4. They can be nested to any level\n",
    "5. Their items can change\n",
    "6. They are dynamic"
   ]
  },
  {
   "cell_type": "code",
   "execution_count": 7,
   "id": "ab22baca",
   "metadata": {},
   "outputs": [],
   "source": [
    "# List can contain the same type, like strings, ints, floats and so on\n",
    "a = [1,2,3]\n",
    "\n",
    "# But also some other types\n",
    "lista2 = [1,'2',True]\n"
   ]
  },
  {
   "cell_type": "code",
   "execution_count": null,
   "id": "7c033296",
   "metadata": {},
   "outputs": [
    {
     "data": {
      "text/plain": [
       "False"
      ]
     },
     "execution_count": 6,
     "metadata": {},
     "output_type": "execute_result"
    }
   ],
   "source": [
    "# the order of elements is important\n",
    "\n",
    "[1, 2, 3, 4] == [4, 1, 3, 2]"
   ]
  },
  {
   "cell_type": "code",
   "execution_count": 8,
   "id": "0167d17c",
   "metadata": {},
   "outputs": [
    {
     "data": {
      "text/plain": [
       "['A', 'A', 'A', 'A', 'A']"
      ]
     },
     "execution_count": 8,
     "metadata": {},
     "output_type": "execute_result"
    }
   ],
   "source": [
    "# You can multiple them\n",
    "\n",
    "['A'] * 5"
   ]
  },
  {
   "cell_type": "code",
   "execution_count": 9,
   "id": "bb7aca32",
   "metadata": {},
   "outputs": [
    {
     "name": "stdout",
     "output_type": "stream",
     "text": [
      "[1, 2, 3, 'garkotłuk']\n"
     ]
    }
   ],
   "source": [
    "# you can combine them like text\n",
    "\n",
    "list1 = [1, 2, 3]\n",
    "list2 = ['garkotłuk']\n",
    "print(list1 + list2)"
   ]
  },
  {
   "cell_type": "code",
   "execution_count": 10,
   "id": "29924e6d",
   "metadata": {},
   "outputs": [
    {
     "data": {
      "text/plain": [
       "6"
      ]
     },
     "execution_count": 10,
     "metadata": {},
     "output_type": "execute_result"
    }
   ],
   "source": [
    "# number of elements in list\n",
    "lista = [ 1, 2, 3, 5, 122, 21]\n",
    "len(lista)"
   ]
  },
  {
   "cell_type": "code",
   "execution_count": 12,
   "id": "4c7c9a38",
   "metadata": {},
   "outputs": [
    {
     "name": "stdout",
     "output_type": "stream",
     "text": [
      "[0, 1, 2, 3, 4, 5, 6, 7, 8, 9]\n"
     ]
    }
   ],
   "source": [
    "# Differences between text and list is that in list we can replace the elements. In string we cannot do that\n",
    "\n",
    "list_of_numbers = [0, 1, 2, 3, 4, 6, 6, 7, 8, 9]\n",
    "list_of_numbers[5] = 5\n",
    "print(list_of_numbers)"
   ]
  },
  {
   "cell_type": "code",
   "execution_count": 15,
   "id": "a0a1b905",
   "metadata": {},
   "outputs": [
    {
     "name": "stdout",
     "output_type": "stream",
     "text": [
      "[0, 1, 2, 3, 4, 6, 6, 7, 8, 9, 10]\n",
      "[0, 1, 2, 3, 4, 6, 6, 7, 8, 9, 10, [10, 11, 12]]\n"
     ]
    }
   ],
   "source": [
    "# Adding elements to the end of list  .append()\n",
    "list_of_numbers = [0, 1, 2, 3, 4, 6, 6, 7, 8, 9]\n",
    "list_of_numbers.append(10)\n",
    "print(list_of_numbers)\n",
    "\n",
    "list_of_numbers.append([10,11,12])\n",
    "print(list_of_numbers)\n",
    "\n"
   ]
  },
  {
   "cell_type": "code",
   "execution_count": 17,
   "id": "12a410f3",
   "metadata": {},
   "outputs": [
    {
     "name": "stdout",
     "output_type": "stream",
     "text": [
      "[0, 1, [1, 2, 3, 4], 2, 3, 4, 6, 6, 7, 8, 9]\n"
     ]
    }
   ],
   "source": [
    "# adding elements in place we want to: .insert(index, element)\n",
    "\n",
    "list_of_numbers = [0, 1, 2, 3, 4, 6, 6, 7, 8, 9]\n",
    "list_of_numbers.insert(2, [1,2,3,4])\n",
    "print(list_of_numbers)"
   ]
  },
  {
   "cell_type": "code",
   "execution_count": 19,
   "id": "0cb5501a",
   "metadata": {},
   "outputs": [
    {
     "name": "stdout",
     "output_type": "stream",
     "text": [
      "[1, 2, 3, 4, 6, 6, 7, 8]\n"
     ]
    }
   ],
   "source": [
    "# removing elements: .pop() if you do not provide index of element as argument to the function then the last element will be removed\n",
    "list_of_numbers = [0, 1, 2, 3, 4, 6, 6, 7, 8, 9]\n",
    "list_of_numbers.pop()\n",
    "list_of_numbers.pop(0)\n",
    "print(list_of_numbers)\n",
    "\n"
   ]
  },
  {
   "cell_type": "code",
   "execution_count": null,
   "id": "3ff3b841",
   "metadata": {},
   "outputs": [
    {
     "name": "stdout",
     "output_type": "stream",
     "text": [
      "[0, 1, 2, 3, 6, 6, 7, 8, 9]\n"
     ]
    }
   ],
   "source": [
    "# .remove(element)\n",
    "\n",
    "list_of_numbers = [0, 1, 2, 3, 4, 6, 6, 7, 8, 9]\n",
    "list_of_numbers.remove(4)\n",
    "print(list_of_numbers)"
   ]
  },
  {
   "cell_type": "code",
   "execution_count": 25,
   "id": "28d1e485",
   "metadata": {},
   "outputs": [
    {
     "name": "stdout",
     "output_type": "stream",
     "text": [
      "[0, 1, 1, 2, 4, 6, 6, 7, 7, 9]\n",
      "[9, 7, 7, 6, 6, 4, 2, 1, 1, 0]\n"
     ]
    }
   ],
   "source": [
    "#sorting\n",
    "\n",
    "list_of_numbers = [0, 1, 2, 7, 4, 6, 6, 7, 1, 9]\n",
    "list_of_numbers.sort()\n",
    "print(list_of_numbers)\n",
    "\n",
    "\n",
    "# or reversed\n",
    "\n",
    "list_of_numbers.sort(reverse=True)\n",
    "print(list_of_numbers)"
   ]
  },
  {
   "cell_type": "code",
   "execution_count": 26,
   "id": "770acf32",
   "metadata": {},
   "outputs": [
    {
     "name": "stdout",
     "output_type": "stream",
     "text": [
      "['a', 'kb', 'zbc', 'abcd']\n"
     ]
    }
   ],
   "source": [
    "# or sorting with length of elements\n",
    "lista = ['a','zbc','kb','abcd']\n",
    "lista.sort(key=len)\n",
    "print(lista)"
   ]
  },
  {
   "cell_type": "code",
   "execution_count": null,
   "id": "9e7a64db",
   "metadata": {},
   "outputs": [
    {
     "name": "stdout",
     "output_type": "stream",
     "text": [
      "True\n"
     ]
    }
   ],
   "source": [
    "# If we want to check that element is on list use \"in\"\n",
    "\n",
    "list_of_names = ['Mustafa', 'Joseph', 'Karol', 'Alicja', 'Luca']\n",
    "print('Mustafa' in list_of_names)"
   ]
  },
  {
   "cell_type": "code",
   "execution_count": 30,
   "id": "ab9b52fc",
   "metadata": {},
   "outputs": [
    {
     "name": "stdout",
     "output_type": "stream",
     "text": [
      "3\n"
     ]
    }
   ],
   "source": [
    "# Returning index for element\n",
    "list_of_names = ['Mustafa', 'Joseph', 'Karol', 'Alicja', 'Luca']\n",
    "print(list_of_names.index('Alicja'))\n"
   ]
  },
  {
   "cell_type": "markdown",
   "id": "4416adbe",
   "metadata": {},
   "source": [
    "Exercise 1\n",
    "- Create a list that will contain three names: Ania, Janek, Zosia\n",
    "- Add a name at the end of the list: Kasia\n",
    "- Add a name at the beginning of the list: Ola\n",
    "- Remove the third element from the list\n",
    "- Display the number of list elements\n",
    "- Check if the list contains the following names (separately for each): Ania, Jan, Kasia\n",
    "\n",
    "\n",
    "\n"
   ]
  },
  {
   "cell_type": "markdown",
   "id": "77b5bcf1",
   "metadata": {},
   "source": [
    "## Text vs. List - Split and Join Functions"
   ]
  },
  {
   "cell_type": "markdown",
   "id": "983df8a8",
   "metadata": {},
   "source": [
    "The split function splits a string into a list, while the join function changes the list into text. As arguments to the function, we provide a separator and a connecting element, respectively."
   ]
  },
  {
   "cell_type": "code",
   "execution_count": 32,
   "id": "9ff881e2",
   "metadata": {},
   "outputs": [],
   "source": [
    "quote = \"Losing a rock is better than never having a rock\""
   ]
  },
  {
   "cell_type": "code",
   "execution_count": 33,
   "id": "369af3da",
   "metadata": {},
   "outputs": [
    {
     "name": "stdout",
     "output_type": "stream",
     "text": [
      "['Losing', 'a', 'rock', 'is', 'better', 'than', 'never', 'having', 'a', 'rock']\n"
     ]
    }
   ],
   "source": [
    "splitted_quote = quote.split()\n",
    "print(splitted_quote)"
   ]
  },
  {
   "cell_type": "code",
   "execution_count": 34,
   "id": "58ff0afe",
   "metadata": {},
   "outputs": [
    {
     "name": "stdout",
     "output_type": "stream",
     "text": [
      "Losing a rock is better than never having a rock\n"
     ]
    }
   ],
   "source": [
    "# if we want to change list to tekst than\n",
    "\n",
    "new_quote = ' '.join(splitted_quote)\n",
    "print(new_quote)"
   ]
  },
  {
   "cell_type": "markdown",
   "id": "50b7d494",
   "metadata": {},
   "source": [
    "## Excercise!\n",
    "\n",
    "quote: \"This parrot is gone! It ceased to exist! It went to meet its creator! It's a dead parrot! A stiff! Life has left it, now it rests in peace! If the master hadn't nailed it to the perch, it would be smelling flowers from underneath! It shot the calendar and now sings in the angelic choir! It's an ex-parrot!\"\n",
    "\n",
    "Instructions:\n",
    "1. Convert the above quote into a list by dividing on exclamation marks\n",
    "2. Delete the last element of the list\n",
    "3. Return the index for \"Stiff\"\n",
    "4. Create a new list that contains every other element starting from 3\n",
    "5. Combine the elements of the list into one text by inserting exclamation marks"
   ]
  },
  {
   "cell_type": "markdown",
   "id": "532c9cb4",
   "metadata": {},
   "source": [
    "## Nested lists\n",
    "Can be used to create matrices in python. Indexing matrices:\n",
    "\n",
    "Info: if we have a lot of elements in the matrix and we care about speed, the numpy library will be better"
   ]
  },
  {
   "cell_type": "code",
   "execution_count": 35,
   "id": "33fb3ea8",
   "metadata": {},
   "outputs": [
    {
     "name": "stdout",
     "output_type": "stream",
     "text": [
      "[[1, 2], [3, 4]]\n"
     ]
    }
   ],
   "source": [
    "matrix = [[1, 2], [3, 4]]\n",
    "print(matrix)"
   ]
  },
  {
   "cell_type": "code",
   "execution_count": 37,
   "id": "1bc159c2",
   "metadata": {},
   "outputs": [
    {
     "name": "stdout",
     "output_type": "stream",
     "text": [
      "[[1, 2, 3], [4, 5, 6], [7, 8, 9]]\n"
     ]
    }
   ],
   "source": [
    "# Also you can connect lists\n",
    "\n",
    "list1 = [1, 2, 3]\n",
    "list2 = [4, 5, 6]\n",
    "list3 = [7, 8, 9]\n",
    "\n",
    "matrix = [list1, list2, list3]\n",
    "print(matrix)"
   ]
  },
  {
   "cell_type": "markdown",
   "id": "72df33a9",
   "metadata": {},
   "source": [
    "### Exercise 3\n",
    "Create a list with four nested lists containing the numbers 1 through 12. Refer to the 3rd item in the second list."
   ]
  },
  {
   "cell_type": "markdown",
   "id": "b52dd960",
   "metadata": {},
   "source": [
    "## Tuples"
   ]
  },
  {
   "cell_type": "markdown",
   "id": "45e80e13",
   "metadata": {},
   "source": [
    "Tuples are lists without the possibility of modification. Some methods can be used on both types, excluding those that modify the content like pop, append, etc. We use it when we do not want the elements of the list to be modified, then they can serve as a key in a dictionary, for example. Tuples are also faster than lists."
   ]
  },
  {
   "cell_type": "code",
   "execution_count": 38,
   "id": "de105b80",
   "metadata": {},
   "outputs": [
    {
     "data": {
      "text/plain": [
       "3"
      ]
     },
     "execution_count": 38,
     "metadata": {},
     "output_type": "execute_result"
    }
   ],
   "source": [
    "tupla1 = (1,2,3)\n",
    "len(tupla1)"
   ]
  },
  {
   "cell_type": "code",
   "execution_count": 39,
   "id": "34616d16",
   "metadata": {},
   "outputs": [
    {
     "data": {
      "text/plain": [
       "False"
      ]
     },
     "execution_count": 39,
     "metadata": {},
     "output_type": "execute_result"
    }
   ],
   "source": [
    "(1,2,3) == (3,2,1)"
   ]
  },
  {
   "cell_type": "code",
   "execution_count": 40,
   "id": "836efa66",
   "metadata": {},
   "outputs": [
    {
     "data": {
      "text/plain": [
       "1"
      ]
     },
     "execution_count": 40,
     "metadata": {},
     "output_type": "execute_result"
    }
   ],
   "source": [
    "tupla1[0]"
   ]
  },
  {
   "cell_type": "code",
   "execution_count": 41,
   "id": "8ce7b409",
   "metadata": {},
   "outputs": [
    {
     "data": {
      "text/plain": [
       "2"
      ]
     },
     "execution_count": 41,
     "metadata": {},
     "output_type": "execute_result"
    }
   ],
   "source": [
    "tupla2 = ('a','a','c','d','e')\n",
    "\n",
    "# Counting elements\n",
    "tupla2.count('a')"
   ]
  },
  {
   "cell_type": "code",
   "execution_count": 42,
   "id": "70d47b32",
   "metadata": {},
   "outputs": [
    {
     "data": {
      "text/plain": [
       "3"
      ]
     },
     "execution_count": 42,
     "metadata": {},
     "output_type": "execute_result"
    }
   ],
   "source": [
    "# Returning index\n",
    "tupla2.index('d')"
   ]
  },
  {
   "cell_type": "code",
   "execution_count": 43,
   "id": "36a4dc24",
   "metadata": {},
   "outputs": [
    {
     "ename": "TypeError",
     "evalue": "'tuple' object does not support item assignment",
     "output_type": "error",
     "traceback": [
      "\u001b[0;31m---------------------------------------------------------------------------\u001b[0m",
      "\u001b[0;31mTypeError\u001b[0m                                 Traceback (most recent call last)",
      "Cell \u001b[0;32mIn[43], line 2\u001b[0m\n\u001b[1;32m      1\u001b[0m \u001b[38;5;66;03m# No possibility to modify!\u001b[39;00m\n\u001b[0;32m----> 2\u001b[0m \u001b[43mtupla2\u001b[49m\u001b[43m[\u001b[49m\u001b[38;5;241;43m0\u001b[39;49m\u001b[43m]\u001b[49m\u001b[38;5;241m=\u001b[39m\u001b[38;5;241m2\u001b[39m\n",
      "\u001b[0;31mTypeError\u001b[0m: 'tuple' object does not support item assignment"
     ]
    }
   ],
   "source": [
    "# No possibility to modify!\n",
    "tupla2[0]=2"
   ]
  },
  {
   "cell_type": "code",
   "execution_count": 44,
   "id": "fc867b77",
   "metadata": {},
   "outputs": [
    {
     "name": "stdout",
     "output_type": "stream",
     "text": [
      "('a', 'x', 'c', 'd', 'e')\n"
     ]
    }
   ],
   "source": [
    "# To change the element in tuple first you need to change type of tuple to list, modify and change back.\n",
    "lista = list(tupla2)\n",
    "lista[1] = \"x\"\n",
    "tupla3 = tuple(lista)\n",
    "\n",
    "print(tupla3) "
   ]
  },
  {
   "cell_type": "markdown",
   "id": "eadb0237",
   "metadata": {},
   "source": [
    "#### Exercise 4\n",
    "1. From the list created in point 1 of exercise 2, select the penultimate element and place separate words in a new list (split by spaces)\n",
    "2. Convert the text to a tuple and check its length\n",
    "3. Return the index of the word 'sings' to the console"
   ]
  },
  {
   "cell_type": "code",
   "execution_count": null,
   "id": "f45ea7bd",
   "metadata": {},
   "outputs": [],
   "source": []
  }
 ],
 "metadata": {
  "kernelspec": {
   "display_name": "dev",
   "language": "python",
   "name": "python3"
  },
  "language_info": {
   "codemirror_mode": {
    "name": "ipython",
    "version": 3
   },
   "file_extension": ".py",
   "mimetype": "text/x-python",
   "name": "python",
   "nbconvert_exporter": "python",
   "pygments_lexer": "ipython3",
   "version": "3.11.9"
  }
 },
 "nbformat": 4,
 "nbformat_minor": 5
}
