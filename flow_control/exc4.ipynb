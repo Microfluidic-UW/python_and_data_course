{
 "cells": [
  {
   "cell_type": "markdown",
   "id": "db709be1",
   "metadata": {},
   "source": [
    "### Flow Control"
   ]
  },
  {
   "cell_type": "markdown",
   "id": "5ff784c7",
   "metadata": {},
   "source": [
    "### While Loop"
   ]
  },
  {
   "cell_type": "markdown",
   "id": "1f0b0c57",
   "metadata": {},
   "source": [
    "It allows you to call a command block multiple times, as long as the condition is met, i.e. it returns a logical value of True"
   ]
  },
  {
   "cell_type": "code",
   "execution_count": 1,
   "id": "8751e832",
   "metadata": {},
   "outputs": [
    {
     "name": "stdout",
     "output_type": "stream",
     "text": [
      "1\n",
      "2\n",
      "3\n",
      "4\n",
      "5\n",
      "6\n",
      "7\n",
      "8\n",
      "9\n",
      "10\n",
      "11\n"
     ]
    }
   ],
   "source": [
    "number = 1\n",
    "\n",
    "while number <= 10:\n",
    "    print(number)\n",
    "    number += 1\n",
    "\n",
    "print(number)\n"
   ]
  },
  {
   "cell_type": "markdown",
   "id": "91a0874a",
   "metadata": {},
   "source": [
    "\n",
    "\n",
    "#### Exercise 3.3: Create a loop that randomly adds nucleotides to a DNA sequence until it exceeds 200 bp. Start with the sequence AATCG"
   ]
  },
  {
   "cell_type": "code",
   "execution_count": null,
   "id": "19d841f6",
   "metadata": {},
   "outputs": [],
   "source": [
    "# Hint: to pick a random from a list of nucleotides you can use the random.choice function, below is an example:\n",
    "# The random.choice function randomly picks an element from a list and is not in the standard library\n",
    "# It requires importing the random library, which has many methods for picking random. To load the library we use \"import\" and the library name as below\n",
    "lista = [4,3,2,4,1,6,7,8]\n",
    "import random\n",
    "random.choice(lista)\n"
   ]
  },
  {
   "cell_type": "code",
   "execution_count": 2,
   "id": "6ff42d76",
   "metadata": {},
   "outputs": [
    {
     "name": "stdout",
     "output_type": "stream",
     "text": [
      "AATCGTACAAGTGCGAGGAAATTGGCGTCCGTATCCATGCGCCGGTGGGCACAGCTTCGTAAAGCTTGCACTGTGATCTTGATTCGCGAATTGCATGGTAGACCGGGTTACCAGCCAAATGGTCACGGTGCTCAGGATAGAGGCGCCTTACGGTAGCTGTACGTGGTCTAGTTTGGGATCTATACTATTAAGGAACGCAT\n"
     ]
    }
   ],
   "source": [
    "sequence = 'AATCG'\n",
    "list_of_nucleotides = ['A','C', 'T', 'G']\n",
    "import random\n",
    "while len(sequence) < 200:\n",
    "    sequence += random.choice(list_of_nucleotides)\n",
    "\n",
    "print(sequence)"
   ]
  },
  {
   "cell_type": "markdown",
   "id": "b324327b",
   "metadata": {},
   "source": [
    "### For Loop"
   ]
  },
  {
   "cell_type": "markdown",
   "id": "c0881303",
   "metadata": {},
   "source": [
    "\n",
    "\n",
    "Executes a block of commands a specified number of times. Often uses the range function. The range function returns a new array using the pattern range(start, stop, step)"
   ]
  },
  {
   "cell_type": "code",
   "execution_count": 3,
   "id": "061e0b65",
   "metadata": {},
   "outputs": [
    {
     "name": "stdout",
     "output_type": "stream",
     "text": [
      "1\n",
      "2\n",
      "3\n",
      "4\n",
      "5\n",
      "6\n",
      "7\n"
     ]
    }
   ],
   "source": [
    "for i in range(1,8):            # Dla każdego i w zakresie od 1 do 8\n",
    "    print(i)                    # pokaż i"
   ]
  },
  {
   "cell_type": "code",
   "execution_count": 4,
   "id": "f4be7a31",
   "metadata": {},
   "outputs": [
    {
     "name": "stdout",
     "output_type": "stream",
     "text": [
      "a\n",
      "b\n",
      "c\n"
     ]
    }
   ],
   "source": [
    "# We often want to iterate through a list - using a for loop we can execute a block of commands for each element of the list\n",
    "lista = ['a','b','c']\n",
    "for i in lista:              # dla każdego i w lista\n",
    "    print(i)    "
   ]
  },
  {
   "cell_type": "markdown",
   "id": "b2ce1910",
   "metadata": {},
   "source": [
    "The letter 'i' is used conventionally from the English iterate and the Latin iteratio, which means the act of repeating the same operation. For the syntax, the name used has no significance, the important thing is to use the same expression within the loop."
   ]
  },
  {
   "cell_type": "code",
   "execution_count": 5,
   "id": "0bff8c95",
   "metadata": {},
   "outputs": [
    {
     "name": "stdout",
     "output_type": "stream",
     "text": [
      "Sekwencja AAGT ma długość 4 pz i zawiera 2 adenines\n",
      "Sekwencja ACCAAA ma długość 6 pz i zawiera 4 adenines\n",
      "Sekwencja TGTGTAAGG ma długość 9 pz i zawiera 2 adenines\n",
      "Sekwencja GGTGTAAA ma długość 8 pz i zawiera 3 adenines\n",
      "Sekwencja TTTTGACCC ma długość 9 pz i zawiera 1 adenines\n"
     ]
    }
   ],
   "source": [
    "sequences = ['AAGT', 'ACCAAA', 'TGTGTAAGG', 'GGTGTAAA', 'TTTTGACCC'] \n",
    "for seq in sequences:\n",
    "    print(f\"Sekwencja {seq} ma długość {str(len(seq))} pz i zawiera {str(seq.count('A'))} adenines\")"
   ]
  },
  {
   "cell_type": "markdown",
   "id": "9b8a6797",
   "metadata": {},
   "source": [
    "#### Conditional statements and loops"
   ]
  },
  {
   "cell_type": "code",
   "execution_count": 6,
   "id": "889cf674",
   "metadata": {},
   "outputs": [
    {
     "name": "stdout",
     "output_type": "stream",
     "text": [
      "a found!\n",
      "no a found ;c\n",
      "no a found ;c\n",
      "no a found ;c\n",
      "no a found ;c\n",
      "no a found ;c\n",
      "a found!\n"
     ]
    }
   ],
   "source": [
    "lista = ['a','b','c','c','4','6','a']\n",
    "for i in lista:                   # for each i in lista\n",
    "    if i=='a':                    # check if i is 'a'\n",
    "        print('a found!')    # if True, print that we found A \n",
    "    else:\n",
    "        print('no a found ;c')"
   ]
  },
  {
   "cell_type": "markdown",
   "id": "aafe0d48",
   "metadata": {},
   "source": [
    "#### Exercise 3.4: Create a list of any 5 names and then:\n",
    "- A. Display them all one by one using a for loop\n",
    "- B. Add a condition to the loop - if the name is longer than 5 characters, return this information to the console. Return the information in a full sentence, e.g. The name Jacek has 5 letters\n",
    "\n"
   ]
  },
  {
   "cell_type": "markdown",
   "id": "d9908c0e",
   "metadata": {},
   "source": [
    "### Exercise 3.5. In the Fibonacci sequence, each subsequent term is the sum of the previous two. We start with F1 = 1 and F2 = 1. Formula: Fn=Fn−1+Fn−2. The first few terms:\n",
    "- the first term of the sequence (F1) = 1\n",
    "- the second term of the sequence (F2) = 1\n",
    "- the third term of the sequence (F3) = 2 (sum of F1 + F2)\n",
    "- the fourth term of the sequence (F4) = 3 (sum of F2 and F3) etc...\n",
    "\n",
    "##### A. Using a while loop, write the next terms of the Fibonacci sequence to the list, so that the last term of the sequence is no greater than 10,000\n",
    "##### B. Using a for loop, write the first 20 terms of the Fibonacci sequence to the list\n",
    "\n"
   ]
  },
  {
   "cell_type": "code",
   "execution_count": 7,
   "id": "ddd3faea",
   "metadata": {},
   "outputs": [
    {
     "name": "stdout",
     "output_type": "stream",
     "text": [
      "10946\n"
     ]
    }
   ],
   "source": [
    "f1 = 1\n",
    "f2 = 1\n",
    "while f2 < 10000:\n",
    "    next_fib = f1 + f2\n",
    "    f1 = f2\n",
    "    f2 = next_fib\n",
    "\n",
    "print(f2)"
   ]
  },
  {
   "cell_type": "markdown",
   "id": "993bf115",
   "metadata": {},
   "source": [
    "## Control Instructions"
   ]
  },
  {
   "cell_type": "code",
   "execution_count": 8,
   "id": "337f8d60",
   "metadata": {},
   "outputs": [],
   "source": [
    "menu = ['sandwich','pasta','soup']"
   ]
  },
  {
   "cell_type": "markdown",
   "id": "78ac7d67",
   "metadata": {},
   "source": [
    "##### break\n",
    "Used to break out of a loop"
   ]
  },
  {
   "cell_type": "code",
   "execution_count": 9,
   "id": "162b9a6c",
   "metadata": {},
   "outputs": [
    {
     "name": "stdout",
     "output_type": "stream",
     "text": [
      "There is no pasta here\n",
      "There is pasta in menu\n"
     ]
    }
   ],
   "source": [
    "for dish in menu:\n",
    "    if dish == 'pasta':\n",
    "        print('There is pasta in menu')\n",
    "        break\n",
    "    else:\n",
    "        print('There is no pasta here')"
   ]
  },
  {
   "cell_type": "markdown",
   "id": "a8c5cef9",
   "metadata": {},
   "source": [
    "##### continue\n",
    "Used to skip statements that are present after the continue statement inside the loop. The program will proceed to the next iterations."
   ]
  },
  {
   "cell_type": "code",
   "execution_count": 10,
   "id": "1eed0ae4",
   "metadata": {},
   "outputs": [
    {
     "name": "stdout",
     "output_type": "stream",
     "text": [
      "Inne dania w menu to sandwich\n",
      "There is pasta in menu\n",
      "Inne dania w menu to soup\n"
     ]
    }
   ],
   "source": [
    "for dish in menu:\n",
    "    if dish == 'pasta':\n",
    "        print('There is pasta in menu')\n",
    "        continue\n",
    "    print('Inne dania w menu to', dish)"
   ]
  },
  {
   "cell_type": "markdown",
   "id": "26c68551",
   "metadata": {},
   "source": [
    "##### pass\n",
    "Pozwala zignorować wynik warunku, przechodzi przez całą pętle"
   ]
  },
  {
   "cell_type": "code",
   "execution_count": 12,
   "id": "e19e65d2",
   "metadata": {},
   "outputs": [
    {
     "name": "stdout",
     "output_type": "stream",
     "text": [
      "smile\n"
     ]
    }
   ],
   "source": [
    "for i in range(1000):\n",
    "    pass\n",
    "\n",
    "print('smile')\n",
    "\n",
    "\n"
   ]
  },
  {
   "cell_type": "markdown",
   "id": "a9cee9e1",
   "metadata": {},
   "source": [
    "## Methods and Functions"
   ]
  },
  {
   "cell_type": "markdown",
   "id": "d2f23862",
   "metadata": {},
   "source": [
    "### Built-in methods\n",
    "Methods are functions associated with a given object class. For example, different methods will be available for text, list, and still others for dictionary\n",
    "\n"
   ]
  },
  {
   "cell_type": "code",
   "execution_count": null,
   "id": "93593e9a",
   "metadata": {},
   "outputs": [],
   "source": [
    "# Examples of methoda on lists\n",
    "lista = [1,2,3]\n",
    "lista.append(4)    # we are adding 4\n",
    "lista.pop(0)       # we are removing first item\n",
    "print(lista)"
   ]
  },
  {
   "cell_type": "code",
   "execution_count": null,
   "id": "2c0e417d",
   "metadata": {},
   "outputs": [],
   "source": [
    "# if you want to show all methods on list (or other classes type . and wait ;p)\n",
    "lista."
   ]
  },
  {
   "cell_type": "code",
   "execution_count": null,
   "id": "8ea27940",
   "metadata": {},
   "outputs": [],
   "source": [
    "# Other options how to find help\n",
    "help(lista.sort)\n",
    "\n",
    "# And official documentation: https://docs.python.org/"
   ]
  },
  {
   "cell_type": "markdown",
   "id": "3a1e6904",
   "metadata": {},
   "source": [
    "## FUNCTIONS!"
   ]
  },
  {
   "cell_type": "markdown",
   "id": "44897374",
   "metadata": {},
   "source": [
    "Functions are blocks of code that will be executed when their name is called. This saves you from having to type the same commands over and over again."
   ]
  },
  {
   "cell_type": "code",
   "execution_count": 2,
   "id": "b405b3f2",
   "metadata": {},
   "outputs": [
    {
     "name": "stdout",
     "output_type": "stream",
     "text": [
      "This function is only text\n"
     ]
    }
   ],
   "source": [
    "# Creating functions without arguments\n",
    "def name_of_function() -> None:\n",
    "    '''\n",
    "    Comment what this function do\n",
    "    '''\n",
    "    print(\"This function is only text\")\n",
    "\n",
    "name_of_function()"
   ]
  },
  {
   "cell_type": "markdown",
   "id": "ed1ec1ee",
   "metadata": {},
   "source": [
    "By convention, functions are named with lower case letters using underscores."
   ]
  },
  {
   "cell_type": "code",
   "execution_count": null,
   "id": "21386f38",
   "metadata": {},
   "outputs": [],
   "source": [
    "# To run a function, we give its name with round brackets\n",
    "name_of_function()"
   ]
  },
  {
   "cell_type": "code",
   "execution_count": 3,
   "id": "5dd5bce7",
   "metadata": {},
   "outputs": [],
   "source": [
    "# Function with one argument\n",
    "\n",
    "def temp_from_farenheit_to_celsjusz(fahrenheit: float) -> float:\n",
    "    \"\"\"This function is changing temperature from fahrenheit to celsjusz\n",
    "\n",
    "    Args:\n",
    "        fahrenheit (float): fahrenheit temperature\n",
    "\n",
    "    Returns:\n",
    "        float: celsjusz temperature\n",
    "    \"\"\"\n",
    "    \n",
    "    celsjusz = (fahrenheit - 32)/ 1.8\n",
    "    return celsjusz"
   ]
  },
  {
   "cell_type": "code",
   "execution_count": 4,
   "id": "04224aa2",
   "metadata": {},
   "outputs": [
    {
     "name": "stdout",
     "output_type": "stream",
     "text": [
      "37.77777777777778\n"
     ]
    }
   ],
   "source": [
    "temp_fahrenheit = 100\n",
    "temp_celsjusz = temp_from_farenheit_to_celsjusz(temp_fahrenheit)\n",
    "print(temp_celsjusz)"
   ]
  },
  {
   "cell_type": "code",
   "execution_count": 5,
   "id": "21731c76",
   "metadata": {},
   "outputs": [
    {
     "data": {
      "text/plain": [
       "<function __main__.temp_from_farenheit_to_celsjusz(fahrenheit: float) -> float>"
      ]
     },
     "execution_count": 5,
     "metadata": {},
     "output_type": "execute_result"
    }
   ],
   "source": [
    "# if you write function without () than you will get info about function that it exists\n",
    "temp_from_farenheit_to_celsjusz\n"
   ]
  },
  {
   "cell_type": "code",
   "execution_count": 6,
   "id": "60f1f9ed",
   "metadata": {},
   "outputs": [
    {
     "name": "stdout",
     "output_type": "stream",
     "text": [
      "Help on function temp_from_farenheit_to_celsjusz in module __main__:\n",
      "\n",
      "temp_from_farenheit_to_celsjusz(fahrenheit: float) -> float\n",
      "    This function is changing temperature from fahrenheit to celsjusz\n",
      "    \n",
      "    Args:\n",
      "        fahrenheit (float): fahrenheit temperature\n",
      "    \n",
      "    Returns:\n",
      "        float: celsjusz temperature\n",
      "\n"
     ]
    }
   ],
   "source": [
    "# If you want help you can return documentation you wrote :)\n",
    "help(temp_from_farenheit_to_celsjusz)"
   ]
  },
  {
   "cell_type": "code",
   "execution_count": 7,
   "id": "e439c1e8",
   "metadata": {},
   "outputs": [
    {
     "ename": "TypeError",
     "evalue": "temp_from_farenheit_to_celsjusz() missing 1 required positional argument: 'fahrenheit'",
     "output_type": "error",
     "traceback": [
      "\u001b[31m---------------------------------------------------------------------------\u001b[39m",
      "\u001b[31mTypeError\u001b[39m                                 Traceback (most recent call last)",
      "\u001b[36mCell\u001b[39m\u001b[36m \u001b[39m\u001b[32mIn[7]\u001b[39m\u001b[32m, line 2\u001b[39m\n\u001b[32m      1\u001b[39m \u001b[38;5;66;03m# if you write function without argument the function will return error\u001b[39;00m\n\u001b[32m----> \u001b[39m\u001b[32m2\u001b[39m \u001b[43mtemp_from_farenheit_to_celsjusz\u001b[49m\u001b[43m(\u001b[49m\u001b[43m)\u001b[49m\n",
      "\u001b[31mTypeError\u001b[39m: temp_from_farenheit_to_celsjusz() missing 1 required positional argument: 'fahrenheit'"
     ]
    }
   ],
   "source": [
    "# if you write function without argument the function will return error\n",
    "temp_from_farenheit_to_celsjusz()"
   ]
  },
  {
   "cell_type": "code",
   "execution_count": 9,
   "id": "32b3cc49",
   "metadata": {},
   "outputs": [
    {
     "data": {
      "text/plain": [
       "37.77777777777778"
      ]
     },
     "execution_count": 9,
     "metadata": {},
     "output_type": "execute_result"
    }
   ],
   "source": [
    "# To avoid errors you can add default vaules in arguments. It means that if you do not write the argument the function still will work with this\n",
    "# default values\n",
    "def temp(fahrenheit:float = 64) -> float:\n",
    "    celsjusz=(fahrenheit-32)/1.8\n",
    "    return celsjusz\n",
    "\n",
    "temp(100)\n"
   ]
  },
  {
   "cell_type": "markdown",
   "id": "b91a520e",
   "metadata": {},
   "source": [
    "#### Ćw 5.1. Utwórz funkcję, która zwraca określoną argumentem liczbę wyrazów ciągu fibonacciego."
   ]
  },
  {
   "cell_type": "code",
   "execution_count": 10,
   "id": "5a633d21",
   "metadata": {},
   "outputs": [
    {
     "data": {
      "text/plain": [
       "[1,\n",
       " 1,\n",
       " 2,\n",
       " 3,\n",
       " 5,\n",
       " 8,\n",
       " 13,\n",
       " 21,\n",
       " 34,\n",
       " 55,\n",
       " 89,\n",
       " 144,\n",
       " 233,\n",
       " 377,\n",
       " 610,\n",
       " 987,\n",
       " 1597,\n",
       " 2584,\n",
       " 4181,\n",
       " 6765,\n",
       " 10946,\n",
       " 17711]"
      ]
     },
     "execution_count": 10,
     "metadata": {},
     "output_type": "execute_result"
    }
   ],
   "source": [
    "def fibon(element:int) -> list:\n",
    "    fibo = [1,1]\n",
    "    for i in range(element):\n",
    "        fibo.append(fibo[-1]+fibo[-2])\n",
    "    return fibo\n",
    "\n",
    "fibon(20)"
   ]
  },
  {
   "cell_type": "code",
   "execution_count": 12,
   "id": "4a6bac2e",
   "metadata": {},
   "outputs": [],
   "source": [
    "# More than one argument\n",
    "def bmi(mass, height):\n",
    "    bmi =  mass /(height ** 2)\n",
    "    return bmi"
   ]
  },
  {
   "cell_type": "code",
   "execution_count": 14,
   "id": "57630757",
   "metadata": {},
   "outputs": [
    {
     "name": "stdout",
     "output_type": "stream",
     "text": [
      "29.860551225775623\n",
      "29.860551225775623\n"
     ]
    }
   ],
   "source": [
    "print(bmi(mass=100, height=1.83))\n",
    "print(bmi(100, 1.83))"
   ]
  },
  {
   "cell_type": "markdown",
   "id": "eb1943d9",
   "metadata": {},
   "source": [
    "#### Exercise 5.2. Create a function, with two arguments, that checks if a selected word (argument 1) is in the text (argument 2) - it should not be case-sensitive. Try it on the text below and the word \"gambolputty\"."
   ]
  },
  {
   "cell_type": "markdown",
   "id": "4a00ac71",
   "metadata": {},
   "source": [
    "if slowo in tekst:"
   ]
  },
  {
   "cell_type": "code",
   "execution_count": null,
   "id": "d0e080e2",
   "metadata": {},
   "outputs": [],
   "source": [
    "quote = \"\"\"Beethoven, Mozart, Chopin, Liszt, Brahms, Panties... sorry!... Schuman, Schubert, Mendelssohn and Bach.\n",
    "Immortal names. But the name of a certain composer has never been placed among the greatest.\n",
    "Why has the world never remembered the name of Johann Gambolputta de vonAusfern-schplenden-schlitter-\n",
    "crasscrenbon-fried-digger-dangle-dungle-burstein-von-knacker-thrasher-apple-banger-horowitz-ticolensic-grander-knotty-spelltinkle-grandlich-grumblemeyer- \n",
    "spelterwasser-kürstlich-himbleeisen-bahnwagen-gutenabend-bitte-eine-nürnburger-bratwustle-gerspurten-mit-zweimache-luber-hundsfut-\n",
    "gumberaber-shönendanker-kalbsfleisch-mittler-raucher von Hautkopft of Ulm?\"\"\""
   ]
  },
  {
   "cell_type": "code",
   "execution_count": 15,
   "id": "ef787849",
   "metadata": {},
   "outputs": [
    {
     "name": "stdout",
     "output_type": "stream",
     "text": [
      "(7, 3, 4, 6, 7)\n"
     ]
    },
    {
     "data": {
      "text/plain": [
       "1.35"
      ]
     },
     "execution_count": 15,
     "metadata": {},
     "output_type": "execute_result"
    }
   ],
   "source": [
    "# For example, a function that calculates a percentage of a sum - it takes any number of arguments and places them in a tuple\n",
    "# args is any string, but by convention *args is always used\n",
    "\n",
    "def procsum(*args):\n",
    "    print(args)\n",
    "    return sum(args) * 0.05\n",
    "\n",
    "procsum(7,3,4,6,7)"
   ]
  },
  {
   "cell_type": "code",
   "execution_count": 16,
   "id": "7edc3bed",
   "metadata": {},
   "outputs": [
    {
     "name": "stdout",
     "output_type": "stream",
     "text": [
      "{'fruit': 'apple', 'vegatable': 'carrot'}\n",
      "My favourite fruit is apple\n"
     ]
    }
   ],
   "source": [
    "# In the example of a function returning information\n",
    "# kwargs is any string, however, by convention **kwargs is always used\n",
    "# This means that any number of key:value pairs can be added as an argument and they will be placed in the dictionary\n",
    "def favourite(**kwargs):\n",
    "    print(kwargs)\n",
    "    if 'fruit' in kwargs:\n",
    "        print('My favourite fruit is {}'.format(kwargs['fruit']))\n",
    "\n",
    "favourite(fruit='apple',vegatable='carrot')"
   ]
  },
  {
   "cell_type": "markdown",
   "id": "c174c9ad",
   "metadata": {},
   "source": [
    "#### Ćw 5.3. Utwórz funkcję, która zwraca sumę kwadratów (do potęgi 2) wszystkich liczb podanych jako argumenty"
   ]
  },
  {
   "cell_type": "code",
   "execution_count": null,
   "id": "49fd1231",
   "metadata": {},
   "outputs": [],
   "source": []
  }
 ],
 "metadata": {
  "kernelspec": {
   "display_name": "dev",
   "language": "python",
   "name": "python3"
  },
  "language_info": {
   "codemirror_mode": {
    "name": "ipython",
    "version": 3
   },
   "file_extension": ".py",
   "mimetype": "text/x-python",
   "name": "python",
   "nbconvert_exporter": "python",
   "pygments_lexer": "ipython3",
   "version": "3.11.11"
  }
 },
 "nbformat": 4,
 "nbformat_minor": 5
}
