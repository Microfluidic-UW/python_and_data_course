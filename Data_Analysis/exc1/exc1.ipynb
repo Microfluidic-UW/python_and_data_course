{
 "cells": [
  {
   "cell_type": "markdown",
   "id": "1bd27449",
   "metadata": {},
   "source": [
    "## What is Pandas?\n",
    "\n",
    "Pandas is a Python library used for working with data sets.\n",
    "\n",
    "It has functions for analyzing, cleaning, exploring, and manipulating data.\n",
    "\n",
    "The name \"Pandas\" has a reference to both \"Panel Data\", and \"Python Data Analysis\" and was created by Wes McKinney in 2008."
   ]
  },
  {
   "cell_type": "code",
   "execution_count": null,
   "id": "78432a2d",
   "metadata": {},
   "outputs": [],
   "source": [
    "import pandas as pd"
   ]
  },
  {
   "cell_type": "code",
   "execution_count": null,
   "id": "14a59b8a",
   "metadata": {},
   "outputs": [],
   "source": [
    "mydataset = {\n",
    "  'cars': [\"BMW\", \"Volvo\", \"Ford\"],\n",
    "  'passings': [3, 7, 2]\n",
    "}\n",
    "\n",
    "myvar = pd.DataFrame(mydataset)\n",
    "\n",
    "print(myvar) "
   ]
  },
  {
   "cell_type": "code",
   "execution_count": null,
   "id": "1ed9c430",
   "metadata": {},
   "outputs": [],
   "source": [
    "# we can read very easy files from excel or from csv files\n",
    "df = pd.read_csv('titanic.csv')"
   ]
  },
  {
   "cell_type": "code",
   "execution_count": null,
   "id": "831fc590",
   "metadata": {},
   "outputs": [],
   "source": [
    "# Iff we want to see how data frame looks like we can\n",
    "df.head() #now it returns 5 first records"
   ]
  },
  {
   "cell_type": "code",
   "execution_count": null,
   "id": "05363888",
   "metadata": {},
   "outputs": [],
   "source": [
    "# we can also see the last records\n",
    "df.tail()"
   ]
  },
  {
   "cell_type": "code",
   "execution_count": null,
   "id": "171d9b35",
   "metadata": {},
   "outputs": [],
   "source": [
    "# we can check the most important info\n",
    "df.info()"
   ]
  },
  {
   "cell_type": "markdown",
   "id": "c2e3d20d",
   "metadata": {},
   "source": [
    "## Cleaning the data"
   ]
  },
  {
   "cell_type": "markdown",
   "id": "ef024546",
   "metadata": {},
   "source": [
    "Data Cleaning\n",
    "\n",
    "Data cleaning means fixing bad data in your data set.\n",
    "\n",
    "Bad data could be:\n",
    "\n",
    "    Empty cells\n",
    "    Data in wrong format\n",
    "    Wrong data\n",
    "    Duplicates"
   ]
  },
  {
   "cell_type": "markdown",
   "id": "a71b40f0",
   "metadata": {},
   "source": [
    "### Empty cells"
   ]
  },
  {
   "cell_type": "code",
   "execution_count": null,
   "id": "26a7a81e",
   "metadata": {},
   "outputs": [],
   "source": [
    "#if you want to remove NA you have to create new variable DF.\n",
    "\n",
    "new_df = df.dropna()\n",
    "new_df.info()"
   ]
  },
  {
   "cell_type": "code",
   "execution_count": null,
   "id": "20e765dd",
   "metadata": {},
   "outputs": [],
   "source": [
    "# or use argument inplace = True instead\n",
    "df.dropna(inplace = True)\n",
    "df.info()"
   ]
  },
  {
   "cell_type": "code",
   "execution_count": null,
   "id": "dcfb96b3",
   "metadata": {},
   "outputs": [],
   "source": [
    "##  Also you can replece NA values\n",
    "df = pd.read_csv('titanic.csv')\n",
    "df.fillna(130, inplace=True)\n",
    "df.info()"
   ]
  },
  {
   "cell_type": "code",
   "execution_count": null,
   "id": "81433174",
   "metadata": {},
   "outputs": [],
   "source": [
    "# We can also replace values in specific columns like\n",
    "df = pd.read_csv('titanic.csv')\n",
    "df.fillna({'age': 22}, inplace=True)\n",
    "df.info()"
   ]
  },
  {
   "cell_type": "markdown",
   "id": "8b0c2d57",
   "metadata": {},
   "source": [
    "### Also (better options) we can replace the values with mean, median and mode"
   ]
  },
  {
   "cell_type": "code",
   "execution_count": null,
   "id": "22a713cb",
   "metadata": {},
   "outputs": [],
   "source": [
    "# with mean\n",
    "df = pd.read_csv('titanic.csv')\n",
    "mean = df['age'].mean()\n",
    "df.fillna({'age': mean}, inplace=True)\n",
    "df.info()"
   ]
  },
  {
   "cell_type": "code",
   "execution_count": null,
   "id": "b5ca687b",
   "metadata": {},
   "outputs": [],
   "source": [
    "# with median\n",
    "df = pd.read_csv('titanic.csv')\n",
    "median = df['age'].median()\n",
    "df.fillna({'age': median}, inplace=True)\n",
    "df.info()"
   ]
  },
  {
   "cell_type": "code",
   "execution_count": null,
   "id": "2e998d3f",
   "metadata": {},
   "outputs": [],
   "source": [
    "# with mode\n",
    "df = pd.read_csv('titanic.csv')\n",
    "mode = df['age'].mode()[0]\n",
    "df.fillna({'age': mode}, inplace=True)\n",
    "df.info()"
   ]
  },
  {
   "cell_type": "code",
   "execution_count": null,
   "id": "32719611",
   "metadata": {},
   "outputs": [],
   "source": [
    "df = pd.DataFrame({\n",
    "    'Duration': [60, 60, 60, 60, 60, 30, 1929184141, 50],\n",
    "    'Pulse': [110, 117, 120, 140, 112, 223, 122, 121],\n",
    "    'Calories': [200, 432, 121, 421, 212, 521, 212, 424]\n",
    "})\n",
    "df.head(10)"
   ]
  },
  {
   "cell_type": "code",
   "execution_count": null,
   "id": "0ec5fe70",
   "metadata": {},
   "outputs": [],
   "source": [
    "# We can change the value we are interested to\n",
    "\n",
    "df.loc[6, 'Duration'] = 45 # Here we are telling the loc function that in row index 6 in Column Duration we change the value to 45\n",
    "df.head(10)"
   ]
  },
  {
   "cell_type": "code",
   "execution_count": null,
   "id": "d5959e80",
   "metadata": {},
   "outputs": [],
   "source": [
    "# We can also use loops like:\n",
    "for x in df.index:\n",
    "  if df.loc[x, \"Duration\"] > 120:\n",
    "    df.loc[x, \"Duration\"] = 120\n",
    "\n",
    "df.head(10)"
   ]
  },
  {
   "cell_type": "code",
   "execution_count": null,
   "id": "b16e1812",
   "metadata": {},
   "outputs": [],
   "source": [
    "# We can also remove the rows\n",
    "for x in df.index:\n",
    "  if df.loc[x, \"Duration\"] > 120:\n",
    "    df.drop(x, inplace = True) \n",
    "\n",
    "df.head(10)"
   ]
  },
  {
   "cell_type": "code",
   "execution_count": null,
   "id": "3693ccd4",
   "metadata": {},
   "outputs": [],
   "source": [
    "# Discovering the duplicates\n",
    "df = pd.DataFrame({\n",
    "    'Duration': [60, 60, 60, 60, 60, 30, 1929184141, 50],\n",
    "    'Pulse': [110, 117, 120, 120, 120, 223, 122, 121],\n",
    "    'Calories': [200, 432, 121, 121, 121, 521, 212, 424]\n",
    "})"
   ]
  },
  {
   "cell_type": "code",
   "execution_count": null,
   "id": "21cf5260",
   "metadata": {},
   "outputs": [],
   "source": [
    "df.duplicated()"
   ]
  },
  {
   "cell_type": "code",
   "execution_count": null,
   "id": "b2e22b3b",
   "metadata": {},
   "outputs": [],
   "source": [
    "# So now we can remove the duplicates :)\n",
    "df.drop_duplicates(inplace = True) "
   ]
  },
  {
   "cell_type": "code",
   "execution_count": null,
   "id": "20786c34",
   "metadata": {},
   "outputs": [],
   "source": [
    "df.head()"
   ]
  },
  {
   "cell_type": "markdown",
   "id": "557714e7",
   "metadata": {},
   "source": [
    "### In very easy way we can check the correlation between data"
   ]
  },
  {
   "cell_type": "code",
   "execution_count": null,
   "id": "34603ac3",
   "metadata": {},
   "outputs": [],
   "source": [
    "df = pd.read_csv('data.csv')\n",
    "df.head()"
   ]
  },
  {
   "cell_type": "code",
   "execution_count": null,
   "id": "b5ae8ba3",
   "metadata": {},
   "outputs": [],
   "source": [
    "# So the correlation :)\n",
    "df.corr()"
   ]
  },
  {
   "cell_type": "markdown",
   "id": "0e99d1be",
   "metadata": {},
   "source": [
    "## In very easy way we are able to create some plots\n",
    "But about plots we will talk in next lessons"
   ]
  },
  {
   "cell_type": "code",
   "execution_count": null,
   "id": "0a689185",
   "metadata": {},
   "outputs": [],
   "source": [
    "#Scatter plot\n",
    "import matplotlib.pyplot as plt\n",
    "\n",
    "df = pd.read_csv('data.csv')\n",
    "\n",
    "df.plot(kind = 'scatter', x = 'Duration', y = 'Calories')\n",
    "\n",
    "plt.show() "
   ]
  },
  {
   "cell_type": "code",
   "execution_count": null,
   "id": "3adcb2fc",
   "metadata": {},
   "outputs": [],
   "source": [
    "# Histogram\n",
    "df[\"Duration\"].plot(kind = 'hist')"
   ]
  },
  {
   "cell_type": "code",
   "execution_count": null,
   "id": "4dc60ec5",
   "metadata": {},
   "outputs": [],
   "source": [
    "# Pivot tables!\n",
    "pd.crosstab(df.Duration, df.Calories) "
   ]
  },
  {
   "cell_type": "markdown",
   "id": "abd8c294",
   "metadata": {},
   "source": [
    "## Excercise time!!!\n",
    "For data from below do some analysis"
   ]
  },
  {
   "cell_type": "code",
   "execution_count": null,
   "id": "84c7487d",
   "metadata": {},
   "outputs": [],
   "source": [
    "import seaborn as sns\n",
    "sns.get_dataset_names()"
   ]
  },
  {
   "cell_type": "code",
   "execution_count": null,
   "id": "28142c81",
   "metadata": {},
   "outputs": [],
   "source": [
    "df = sns.load_dataset('name_of_set')"
   ]
  },
  {
   "cell_type": "code",
   "execution_count": null,
   "id": "9f01e8c3",
   "metadata": {},
   "outputs": [],
   "source": []
  }
 ],
 "metadata": {
  "kernelspec": {
   "display_name": "dev",
   "language": "python",
   "name": "python3"
  },
  "language_info": {
   "codemirror_mode": {
    "name": "ipython",
    "version": 3
   },
   "file_extension": ".py",
   "mimetype": "text/x-python",
   "name": "python",
   "nbconvert_exporter": "python",
   "pygments_lexer": "ipython3",
   "version": "3.11.12"
  }
 },
 "nbformat": 4,
 "nbformat_minor": 5
}
